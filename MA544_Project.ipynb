{
  "nbformat": 4,
  "nbformat_minor": 0,
  "metadata": {
    "colab": {
      "provenance": []
    },
    "kernelspec": {
      "name": "python3",
      "display_name": "Python 3"
    },
    "language_info": {
      "name": "python"
    }
  },
  "cells": [
    {
      "cell_type": "markdown",
      "source": [
        "Ben: Centroids\n",
        "\n",
        "Ben: SVD bases\n",
        "\n",
        "<s>Tangent distance</s>\n",
        "\n",
        "<s>Tensor SVD</s>\n",
        "\n",
        "Omar: eigenfaces (eigensigns)\n",
        "\n",
        "Smoothing\n",
        "\n",
        "Neural Networks?"
      ],
      "metadata": {
        "id": "qak-Q9Cw2XBX"
      }
    },
    {
      "cell_type": "code",
      "execution_count": null,
      "metadata": {
        "id": "joCTZChuM6-A"
      },
      "outputs": [],
      "source": [
        "import numpy as np\n",
        "import pandas as pd\n",
        "import matplotlib.pyplot as plt\n",
        "\n",
        "from google.colab import files\n",
        "from google.colab import drive\n",
        "from tqdm import tqdm\n",
        "import io\n",
        "from sys import maxsize\n",
        "from sklearn.utils.extmath import randomized_svd\n",
        "from scipy.ndimage import gaussian_filter\n",
        "from scipy.ndimage import gaussian_filter1d"
      ]
    },
    {
      "cell_type": "code",
      "source": [
        "# Assessment metrics\n",
        "from sklearn.metrics import classification_report\n",
        "from sklearn.metrics import accuracy_score\n",
        "from sklearn.metrics import precision_score"
      ],
      "metadata": {
        "id": "STBeFgnnWbaX"
      },
      "execution_count": null,
      "outputs": []
    },
    {
      "cell_type": "code",
      "source": [
        "import math"
      ],
      "metadata": {
        "id": "RTMQDbCWRse0"
      },
      "execution_count": null,
      "outputs": []
    },
    {
      "cell_type": "code",
      "source": [
        "from PIL import Image"
      ],
      "metadata": {
        "id": "4PN5451vU1eM"
      },
      "execution_count": null,
      "outputs": []
    },
    {
      "cell_type": "code",
      "source": [
        "sign_map = {\n",
        "    0: \"A\",\n",
        "    1: \"B\",\n",
        "    2: \"C\",\n",
        "    3: \"D\",\n",
        "    4: \"E\",\n",
        "    5: \"F\",\n",
        "    6: \"G\",\n",
        "    7: \"H\",\n",
        "    8: \"I\",\n",
        "    9: \"J\",\n",
        "    10: \"K\",\n",
        "    11: \"L\",\n",
        "    12: \"M\",\n",
        "    13: \"N\",\n",
        "    14: \"O\",\n",
        "    15: \"P\",\n",
        "    16: \"Q\",\n",
        "    17: \"R\",\n",
        "    18: \"S\",\n",
        "    19: \"T\",\n",
        "    20: \"U\",\n",
        "    21: \"V\",\n",
        "    22: \"W\",\n",
        "    23: \"X\",\n",
        "    24: \"Y\",\n",
        "    25: \"Z\"\n",
        "}"
      ],
      "metadata": {
        "id": "clqtRjTkW-72"
      },
      "execution_count": null,
      "outputs": []
    },
    {
      "cell_type": "code",
      "source": [
        "reduced_sign_map = {\n",
        "    0: \"A\",\n",
        "    1: \"B\",\n",
        "    2: \"C\",\n",
        "    3: \"D\",\n",
        "    4: \"E\",\n",
        "    5: \"F\",\n",
        "    6: \"G\",\n",
        "    7: \"H\",\n",
        "    8: \"I\",\n",
        "    9: \"K\",\n",
        "    10: \"L\",\n",
        "    11: \"M\",\n",
        "    12: \"N\",\n",
        "    13: \"O\",\n",
        "    14: \"P\",\n",
        "    15: \"Q\",\n",
        "    16: \"R\",\n",
        "    17: \"S\",\n",
        "    18: \"T\",\n",
        "    19: \"U\",\n",
        "    20: \"V\",\n",
        "    21: \"W\",\n",
        "    22: \"X\",\n",
        "    23: \"Y\"\n",
        "}"
      ],
      "metadata": {
        "id": "mjnSLoL19kmO"
      },
      "execution_count": null,
      "outputs": []
    },
    {
      "cell_type": "code",
      "source": [
        "df_train = pd.read_csv('/content/drive/MyDrive/sign data/sign_mnist_train/sign_mnist_train.csv')"
      ],
      "metadata": {
        "id": "pne14PLoPjAb"
      },
      "execution_count": null,
      "outputs": []
    },
    {
      "cell_type": "code",
      "source": [
        "df_test = pd.read_csv('/content/drive/MyDrive/sign data/sign_mnist_test/sign_mnist_test.csv')"
      ],
      "metadata": {
        "id": "Kydc-vojXXU5"
      },
      "execution_count": null,
      "outputs": []
    },
    {
      "cell_type": "code",
      "source": [
        "df_train.head(10)"
      ],
      "metadata": {
        "id": "EZozXWnpRrM9",
        "colab": {
          "base_uri": "https://localhost:8080/",
          "height": 392
        },
        "outputId": "32cf30f6-7f16-4ae5-9305-65f3e9466f06"
      },
      "execution_count": null,
      "outputs": [
        {
          "output_type": "execute_result",
          "data": {
            "text/plain": [
              "   label  pixel1  pixel2  pixel3  pixel4  pixel5  pixel6  pixel7  pixel8  \\\n",
              "0      3     107     118     127     134     139     143     146     150   \n",
              "1      6     155     157     156     156     156     157     156     158   \n",
              "2      2     187     188     188     187     187     186     187     188   \n",
              "3      2     211     211     212     212     211     210     211     210   \n",
              "4     13     164     167     170     172     176     179     180     184   \n",
              "5     16     161     168     172     173     178     184     189     193   \n",
              "6      8     134     134     135     135     136     137     137     138   \n",
              "7     22     114      42      74      99     104     109     117     127   \n",
              "8      3     169     174     176     180     183     185     187     188   \n",
              "9      3     189     189     189     190     190     191     190     190   \n",
              "\n",
              "   pixel9  ...  pixel775  pixel776  pixel777  pixel778  pixel779  pixel780  \\\n",
              "0     153  ...       207       207       207       207       206       206   \n",
              "1     158  ...        69       149       128        87        94       163   \n",
              "2     187  ...       202       201       200       199       198       199   \n",
              "3     210  ...       235       234       233       231       230       226   \n",
              "4     185  ...        92       105       105       108       133       163   \n",
              "5     196  ...        76        74        68        62        53        55   \n",
              "6     138  ...       109       102        91        65       138       189   \n",
              "7     142  ...       214       218       220       223       223       225   \n",
              "8     190  ...       119       118       123       120       118       114   \n",
              "9     190  ...        13        53       200       204       201       201   \n",
              "\n",
              "   pixel781  pixel782  pixel783  pixel784  \n",
              "0       206       204       203       202  \n",
              "1       175       103       135       149  \n",
              "2       198       195       194       195  \n",
              "3       225       222       229       163  \n",
              "4       157       163       164       179  \n",
              "5        48       238       255       255  \n",
              "6       179       181       181       179  \n",
              "7       227       227       228       228  \n",
              "8        94        74        61        57  \n",
              "9       193       175       178       156  \n",
              "\n",
              "[10 rows x 785 columns]"
            ],
            "text/html": [
              "\n",
              "  <div id=\"df-a6976e47-c2c1-4e0b-8358-6c1d30d78a05\">\n",
              "    <div class=\"colab-df-container\">\n",
              "      <div>\n",
              "<style scoped>\n",
              "    .dataframe tbody tr th:only-of-type {\n",
              "        vertical-align: middle;\n",
              "    }\n",
              "\n",
              "    .dataframe tbody tr th {\n",
              "        vertical-align: top;\n",
              "    }\n",
              "\n",
              "    .dataframe thead th {\n",
              "        text-align: right;\n",
              "    }\n",
              "</style>\n",
              "<table border=\"1\" class=\"dataframe\">\n",
              "  <thead>\n",
              "    <tr style=\"text-align: right;\">\n",
              "      <th></th>\n",
              "      <th>label</th>\n",
              "      <th>pixel1</th>\n",
              "      <th>pixel2</th>\n",
              "      <th>pixel3</th>\n",
              "      <th>pixel4</th>\n",
              "      <th>pixel5</th>\n",
              "      <th>pixel6</th>\n",
              "      <th>pixel7</th>\n",
              "      <th>pixel8</th>\n",
              "      <th>pixel9</th>\n",
              "      <th>...</th>\n",
              "      <th>pixel775</th>\n",
              "      <th>pixel776</th>\n",
              "      <th>pixel777</th>\n",
              "      <th>pixel778</th>\n",
              "      <th>pixel779</th>\n",
              "      <th>pixel780</th>\n",
              "      <th>pixel781</th>\n",
              "      <th>pixel782</th>\n",
              "      <th>pixel783</th>\n",
              "      <th>pixel784</th>\n",
              "    </tr>\n",
              "  </thead>\n",
              "  <tbody>\n",
              "    <tr>\n",
              "      <th>0</th>\n",
              "      <td>3</td>\n",
              "      <td>107</td>\n",
              "      <td>118</td>\n",
              "      <td>127</td>\n",
              "      <td>134</td>\n",
              "      <td>139</td>\n",
              "      <td>143</td>\n",
              "      <td>146</td>\n",
              "      <td>150</td>\n",
              "      <td>153</td>\n",
              "      <td>...</td>\n",
              "      <td>207</td>\n",
              "      <td>207</td>\n",
              "      <td>207</td>\n",
              "      <td>207</td>\n",
              "      <td>206</td>\n",
              "      <td>206</td>\n",
              "      <td>206</td>\n",
              "      <td>204</td>\n",
              "      <td>203</td>\n",
              "      <td>202</td>\n",
              "    </tr>\n",
              "    <tr>\n",
              "      <th>1</th>\n",
              "      <td>6</td>\n",
              "      <td>155</td>\n",
              "      <td>157</td>\n",
              "      <td>156</td>\n",
              "      <td>156</td>\n",
              "      <td>156</td>\n",
              "      <td>157</td>\n",
              "      <td>156</td>\n",
              "      <td>158</td>\n",
              "      <td>158</td>\n",
              "      <td>...</td>\n",
              "      <td>69</td>\n",
              "      <td>149</td>\n",
              "      <td>128</td>\n",
              "      <td>87</td>\n",
              "      <td>94</td>\n",
              "      <td>163</td>\n",
              "      <td>175</td>\n",
              "      <td>103</td>\n",
              "      <td>135</td>\n",
              "      <td>149</td>\n",
              "    </tr>\n",
              "    <tr>\n",
              "      <th>2</th>\n",
              "      <td>2</td>\n",
              "      <td>187</td>\n",
              "      <td>188</td>\n",
              "      <td>188</td>\n",
              "      <td>187</td>\n",
              "      <td>187</td>\n",
              "      <td>186</td>\n",
              "      <td>187</td>\n",
              "      <td>188</td>\n",
              "      <td>187</td>\n",
              "      <td>...</td>\n",
              "      <td>202</td>\n",
              "      <td>201</td>\n",
              "      <td>200</td>\n",
              "      <td>199</td>\n",
              "      <td>198</td>\n",
              "      <td>199</td>\n",
              "      <td>198</td>\n",
              "      <td>195</td>\n",
              "      <td>194</td>\n",
              "      <td>195</td>\n",
              "    </tr>\n",
              "    <tr>\n",
              "      <th>3</th>\n",
              "      <td>2</td>\n",
              "      <td>211</td>\n",
              "      <td>211</td>\n",
              "      <td>212</td>\n",
              "      <td>212</td>\n",
              "      <td>211</td>\n",
              "      <td>210</td>\n",
              "      <td>211</td>\n",
              "      <td>210</td>\n",
              "      <td>210</td>\n",
              "      <td>...</td>\n",
              "      <td>235</td>\n",
              "      <td>234</td>\n",
              "      <td>233</td>\n",
              "      <td>231</td>\n",
              "      <td>230</td>\n",
              "      <td>226</td>\n",
              "      <td>225</td>\n",
              "      <td>222</td>\n",
              "      <td>229</td>\n",
              "      <td>163</td>\n",
              "    </tr>\n",
              "    <tr>\n",
              "      <th>4</th>\n",
              "      <td>13</td>\n",
              "      <td>164</td>\n",
              "      <td>167</td>\n",
              "      <td>170</td>\n",
              "      <td>172</td>\n",
              "      <td>176</td>\n",
              "      <td>179</td>\n",
              "      <td>180</td>\n",
              "      <td>184</td>\n",
              "      <td>185</td>\n",
              "      <td>...</td>\n",
              "      <td>92</td>\n",
              "      <td>105</td>\n",
              "      <td>105</td>\n",
              "      <td>108</td>\n",
              "      <td>133</td>\n",
              "      <td>163</td>\n",
              "      <td>157</td>\n",
              "      <td>163</td>\n",
              "      <td>164</td>\n",
              "      <td>179</td>\n",
              "    </tr>\n",
              "    <tr>\n",
              "      <th>5</th>\n",
              "      <td>16</td>\n",
              "      <td>161</td>\n",
              "      <td>168</td>\n",
              "      <td>172</td>\n",
              "      <td>173</td>\n",
              "      <td>178</td>\n",
              "      <td>184</td>\n",
              "      <td>189</td>\n",
              "      <td>193</td>\n",
              "      <td>196</td>\n",
              "      <td>...</td>\n",
              "      <td>76</td>\n",
              "      <td>74</td>\n",
              "      <td>68</td>\n",
              "      <td>62</td>\n",
              "      <td>53</td>\n",
              "      <td>55</td>\n",
              "      <td>48</td>\n",
              "      <td>238</td>\n",
              "      <td>255</td>\n",
              "      <td>255</td>\n",
              "    </tr>\n",
              "    <tr>\n",
              "      <th>6</th>\n",
              "      <td>8</td>\n",
              "      <td>134</td>\n",
              "      <td>134</td>\n",
              "      <td>135</td>\n",
              "      <td>135</td>\n",
              "      <td>136</td>\n",
              "      <td>137</td>\n",
              "      <td>137</td>\n",
              "      <td>138</td>\n",
              "      <td>138</td>\n",
              "      <td>...</td>\n",
              "      <td>109</td>\n",
              "      <td>102</td>\n",
              "      <td>91</td>\n",
              "      <td>65</td>\n",
              "      <td>138</td>\n",
              "      <td>189</td>\n",
              "      <td>179</td>\n",
              "      <td>181</td>\n",
              "      <td>181</td>\n",
              "      <td>179</td>\n",
              "    </tr>\n",
              "    <tr>\n",
              "      <th>7</th>\n",
              "      <td>22</td>\n",
              "      <td>114</td>\n",
              "      <td>42</td>\n",
              "      <td>74</td>\n",
              "      <td>99</td>\n",
              "      <td>104</td>\n",
              "      <td>109</td>\n",
              "      <td>117</td>\n",
              "      <td>127</td>\n",
              "      <td>142</td>\n",
              "      <td>...</td>\n",
              "      <td>214</td>\n",
              "      <td>218</td>\n",
              "      <td>220</td>\n",
              "      <td>223</td>\n",
              "      <td>223</td>\n",
              "      <td>225</td>\n",
              "      <td>227</td>\n",
              "      <td>227</td>\n",
              "      <td>228</td>\n",
              "      <td>228</td>\n",
              "    </tr>\n",
              "    <tr>\n",
              "      <th>8</th>\n",
              "      <td>3</td>\n",
              "      <td>169</td>\n",
              "      <td>174</td>\n",
              "      <td>176</td>\n",
              "      <td>180</td>\n",
              "      <td>183</td>\n",
              "      <td>185</td>\n",
              "      <td>187</td>\n",
              "      <td>188</td>\n",
              "      <td>190</td>\n",
              "      <td>...</td>\n",
              "      <td>119</td>\n",
              "      <td>118</td>\n",
              "      <td>123</td>\n",
              "      <td>120</td>\n",
              "      <td>118</td>\n",
              "      <td>114</td>\n",
              "      <td>94</td>\n",
              "      <td>74</td>\n",
              "      <td>61</td>\n",
              "      <td>57</td>\n",
              "    </tr>\n",
              "    <tr>\n",
              "      <th>9</th>\n",
              "      <td>3</td>\n",
              "      <td>189</td>\n",
              "      <td>189</td>\n",
              "      <td>189</td>\n",
              "      <td>190</td>\n",
              "      <td>190</td>\n",
              "      <td>191</td>\n",
              "      <td>190</td>\n",
              "      <td>190</td>\n",
              "      <td>190</td>\n",
              "      <td>...</td>\n",
              "      <td>13</td>\n",
              "      <td>53</td>\n",
              "      <td>200</td>\n",
              "      <td>204</td>\n",
              "      <td>201</td>\n",
              "      <td>201</td>\n",
              "      <td>193</td>\n",
              "      <td>175</td>\n",
              "      <td>178</td>\n",
              "      <td>156</td>\n",
              "    </tr>\n",
              "  </tbody>\n",
              "</table>\n",
              "<p>10 rows × 785 columns</p>\n",
              "</div>\n",
              "      <button class=\"colab-df-convert\" onclick=\"convertToInteractive('df-a6976e47-c2c1-4e0b-8358-6c1d30d78a05')\"\n",
              "              title=\"Convert this dataframe to an interactive table.\"\n",
              "              style=\"display:none;\">\n",
              "        \n",
              "  <svg xmlns=\"http://www.w3.org/2000/svg\" height=\"24px\"viewBox=\"0 0 24 24\"\n",
              "       width=\"24px\">\n",
              "    <path d=\"M0 0h24v24H0V0z\" fill=\"none\"/>\n",
              "    <path d=\"M18.56 5.44l.94 2.06.94-2.06 2.06-.94-2.06-.94-.94-2.06-.94 2.06-2.06.94zm-11 1L8.5 8.5l.94-2.06 2.06-.94-2.06-.94L8.5 2.5l-.94 2.06-2.06.94zm10 10l.94 2.06.94-2.06 2.06-.94-2.06-.94-.94-2.06-.94 2.06-2.06.94z\"/><path d=\"M17.41 7.96l-1.37-1.37c-.4-.4-.92-.59-1.43-.59-.52 0-1.04.2-1.43.59L10.3 9.45l-7.72 7.72c-.78.78-.78 2.05 0 2.83L4 21.41c.39.39.9.59 1.41.59.51 0 1.02-.2 1.41-.59l7.78-7.78 2.81-2.81c.8-.78.8-2.07 0-2.86zM5.41 20L4 18.59l7.72-7.72 1.47 1.35L5.41 20z\"/>\n",
              "  </svg>\n",
              "      </button>\n",
              "      \n",
              "  <style>\n",
              "    .colab-df-container {\n",
              "      display:flex;\n",
              "      flex-wrap:wrap;\n",
              "      gap: 12px;\n",
              "    }\n",
              "\n",
              "    .colab-df-convert {\n",
              "      background-color: #E8F0FE;\n",
              "      border: none;\n",
              "      border-radius: 50%;\n",
              "      cursor: pointer;\n",
              "      display: none;\n",
              "      fill: #1967D2;\n",
              "      height: 32px;\n",
              "      padding: 0 0 0 0;\n",
              "      width: 32px;\n",
              "    }\n",
              "\n",
              "    .colab-df-convert:hover {\n",
              "      background-color: #E2EBFA;\n",
              "      box-shadow: 0px 1px 2px rgba(60, 64, 67, 0.3), 0px 1px 3px 1px rgba(60, 64, 67, 0.15);\n",
              "      fill: #174EA6;\n",
              "    }\n",
              "\n",
              "    [theme=dark] .colab-df-convert {\n",
              "      background-color: #3B4455;\n",
              "      fill: #D2E3FC;\n",
              "    }\n",
              "\n",
              "    [theme=dark] .colab-df-convert:hover {\n",
              "      background-color: #434B5C;\n",
              "      box-shadow: 0px 1px 3px 1px rgba(0, 0, 0, 0.15);\n",
              "      filter: drop-shadow(0px 1px 2px rgba(0, 0, 0, 0.3));\n",
              "      fill: #FFFFFF;\n",
              "    }\n",
              "  </style>\n",
              "\n",
              "      <script>\n",
              "        const buttonEl =\n",
              "          document.querySelector('#df-a6976e47-c2c1-4e0b-8358-6c1d30d78a05 button.colab-df-convert');\n",
              "        buttonEl.style.display =\n",
              "          google.colab.kernel.accessAllowed ? 'block' : 'none';\n",
              "\n",
              "        async function convertToInteractive(key) {\n",
              "          const element = document.querySelector('#df-a6976e47-c2c1-4e0b-8358-6c1d30d78a05');\n",
              "          const dataTable =\n",
              "            await google.colab.kernel.invokeFunction('convertToInteractive',\n",
              "                                                     [key], {});\n",
              "          if (!dataTable) return;\n",
              "\n",
              "          const docLinkHtml = 'Like what you see? Visit the ' +\n",
              "            '<a target=\"_blank\" href=https://colab.research.google.com/notebooks/data_table.ipynb>data table notebook</a>'\n",
              "            + ' to learn more about interactive tables.';\n",
              "          element.innerHTML = '';\n",
              "          dataTable['output_type'] = 'display_data';\n",
              "          await google.colab.output.renderOutput(dataTable, element);\n",
              "          const docLink = document.createElement('div');\n",
              "          docLink.innerHTML = docLinkHtml;\n",
              "          element.appendChild(docLink);\n",
              "        }\n",
              "      </script>\n",
              "    </div>\n",
              "  </div>\n",
              "  "
            ]
          },
          "metadata": {},
          "execution_count": 58
        }
      ]
    },
    {
      "cell_type": "code",
      "source": [
        "df_test.head(10)"
      ],
      "metadata": {
        "colab": {
          "base_uri": "https://localhost:8080/",
          "height": 392
        },
        "id": "GiZo28kYXjpS",
        "outputId": "250262fb-a74e-482e-9d39-0cf28ef3d4e4"
      },
      "execution_count": null,
      "outputs": [
        {
          "output_type": "execute_result",
          "data": {
            "text/plain": [
              "   label  pixel1  pixel2  pixel3  pixel4  pixel5  pixel6  pixel7  pixel8  \\\n",
              "0      6     149     149     150     150     150     151     151     150   \n",
              "1      5     126     128     131     132     133     134     135     135   \n",
              "2     10      85      88      92      96     105     123     135     143   \n",
              "3      0     203     205     207     206     207     209     210     209   \n",
              "4      3     188     191     193     195     199     201     202     203   \n",
              "5     21      72      79      87     101     115     124     131     135   \n",
              "6     10      93     100     112     118     123     127     131     133   \n",
              "7     14     177     177     177     177     177     178     179     179   \n",
              "8      3     191     194     196     198     201     203     204     205   \n",
              "9      7     171     172     172     173     173     173     173     173   \n",
              "\n",
              "   pixel9  ...  pixel775  pixel776  pixel777  pixel778  pixel779  pixel780  \\\n",
              "0     151  ...       138       148       127        89        82        96   \n",
              "1     136  ...        47       104       194       183       186       184   \n",
              "2     147  ...        68       166       242       227       230       227   \n",
              "3     210  ...       154       248       247       248       253       236   \n",
              "4     203  ...        26        40        64        48        29        46   \n",
              "5     139  ...       187       189       192       193       194       194   \n",
              "6     136  ...       173       175       177       178       180       180   \n",
              "7     178  ...       232       223       224       224       223       221   \n",
              "8     205  ...        43        57        78        64        47        62   \n",
              "9     172  ...       199       199       198       196       195       194   \n",
              "\n",
              "   pixel781  pixel782  pixel783  pixel784  \n",
              "0       106       112       120       107  \n",
              "1       184       184       182       180  \n",
              "2       226       225       224       222  \n",
              "3       230       240       253       255  \n",
              "4        49        46        46        53  \n",
              "5       194       195       195       194  \n",
              "6       181       181       181       183  \n",
              "7       221       221       220       219  \n",
              "8        65        62        62        68  \n",
              "9       183        85        65       124  \n",
              "\n",
              "[10 rows x 785 columns]"
            ],
            "text/html": [
              "\n",
              "  <div id=\"df-0256df95-305d-4de1-99a1-1cb2b9cd4c23\">\n",
              "    <div class=\"colab-df-container\">\n",
              "      <div>\n",
              "<style scoped>\n",
              "    .dataframe tbody tr th:only-of-type {\n",
              "        vertical-align: middle;\n",
              "    }\n",
              "\n",
              "    .dataframe tbody tr th {\n",
              "        vertical-align: top;\n",
              "    }\n",
              "\n",
              "    .dataframe thead th {\n",
              "        text-align: right;\n",
              "    }\n",
              "</style>\n",
              "<table border=\"1\" class=\"dataframe\">\n",
              "  <thead>\n",
              "    <tr style=\"text-align: right;\">\n",
              "      <th></th>\n",
              "      <th>label</th>\n",
              "      <th>pixel1</th>\n",
              "      <th>pixel2</th>\n",
              "      <th>pixel3</th>\n",
              "      <th>pixel4</th>\n",
              "      <th>pixel5</th>\n",
              "      <th>pixel6</th>\n",
              "      <th>pixel7</th>\n",
              "      <th>pixel8</th>\n",
              "      <th>pixel9</th>\n",
              "      <th>...</th>\n",
              "      <th>pixel775</th>\n",
              "      <th>pixel776</th>\n",
              "      <th>pixel777</th>\n",
              "      <th>pixel778</th>\n",
              "      <th>pixel779</th>\n",
              "      <th>pixel780</th>\n",
              "      <th>pixel781</th>\n",
              "      <th>pixel782</th>\n",
              "      <th>pixel783</th>\n",
              "      <th>pixel784</th>\n",
              "    </tr>\n",
              "  </thead>\n",
              "  <tbody>\n",
              "    <tr>\n",
              "      <th>0</th>\n",
              "      <td>6</td>\n",
              "      <td>149</td>\n",
              "      <td>149</td>\n",
              "      <td>150</td>\n",
              "      <td>150</td>\n",
              "      <td>150</td>\n",
              "      <td>151</td>\n",
              "      <td>151</td>\n",
              "      <td>150</td>\n",
              "      <td>151</td>\n",
              "      <td>...</td>\n",
              "      <td>138</td>\n",
              "      <td>148</td>\n",
              "      <td>127</td>\n",
              "      <td>89</td>\n",
              "      <td>82</td>\n",
              "      <td>96</td>\n",
              "      <td>106</td>\n",
              "      <td>112</td>\n",
              "      <td>120</td>\n",
              "      <td>107</td>\n",
              "    </tr>\n",
              "    <tr>\n",
              "      <th>1</th>\n",
              "      <td>5</td>\n",
              "      <td>126</td>\n",
              "      <td>128</td>\n",
              "      <td>131</td>\n",
              "      <td>132</td>\n",
              "      <td>133</td>\n",
              "      <td>134</td>\n",
              "      <td>135</td>\n",
              "      <td>135</td>\n",
              "      <td>136</td>\n",
              "      <td>...</td>\n",
              "      <td>47</td>\n",
              "      <td>104</td>\n",
              "      <td>194</td>\n",
              "      <td>183</td>\n",
              "      <td>186</td>\n",
              "      <td>184</td>\n",
              "      <td>184</td>\n",
              "      <td>184</td>\n",
              "      <td>182</td>\n",
              "      <td>180</td>\n",
              "    </tr>\n",
              "    <tr>\n",
              "      <th>2</th>\n",
              "      <td>10</td>\n",
              "      <td>85</td>\n",
              "      <td>88</td>\n",
              "      <td>92</td>\n",
              "      <td>96</td>\n",
              "      <td>105</td>\n",
              "      <td>123</td>\n",
              "      <td>135</td>\n",
              "      <td>143</td>\n",
              "      <td>147</td>\n",
              "      <td>...</td>\n",
              "      <td>68</td>\n",
              "      <td>166</td>\n",
              "      <td>242</td>\n",
              "      <td>227</td>\n",
              "      <td>230</td>\n",
              "      <td>227</td>\n",
              "      <td>226</td>\n",
              "      <td>225</td>\n",
              "      <td>224</td>\n",
              "      <td>222</td>\n",
              "    </tr>\n",
              "    <tr>\n",
              "      <th>3</th>\n",
              "      <td>0</td>\n",
              "      <td>203</td>\n",
              "      <td>205</td>\n",
              "      <td>207</td>\n",
              "      <td>206</td>\n",
              "      <td>207</td>\n",
              "      <td>209</td>\n",
              "      <td>210</td>\n",
              "      <td>209</td>\n",
              "      <td>210</td>\n",
              "      <td>...</td>\n",
              "      <td>154</td>\n",
              "      <td>248</td>\n",
              "      <td>247</td>\n",
              "      <td>248</td>\n",
              "      <td>253</td>\n",
              "      <td>236</td>\n",
              "      <td>230</td>\n",
              "      <td>240</td>\n",
              "      <td>253</td>\n",
              "      <td>255</td>\n",
              "    </tr>\n",
              "    <tr>\n",
              "      <th>4</th>\n",
              "      <td>3</td>\n",
              "      <td>188</td>\n",
              "      <td>191</td>\n",
              "      <td>193</td>\n",
              "      <td>195</td>\n",
              "      <td>199</td>\n",
              "      <td>201</td>\n",
              "      <td>202</td>\n",
              "      <td>203</td>\n",
              "      <td>203</td>\n",
              "      <td>...</td>\n",
              "      <td>26</td>\n",
              "      <td>40</td>\n",
              "      <td>64</td>\n",
              "      <td>48</td>\n",
              "      <td>29</td>\n",
              "      <td>46</td>\n",
              "      <td>49</td>\n",
              "      <td>46</td>\n",
              "      <td>46</td>\n",
              "      <td>53</td>\n",
              "    </tr>\n",
              "    <tr>\n",
              "      <th>5</th>\n",
              "      <td>21</td>\n",
              "      <td>72</td>\n",
              "      <td>79</td>\n",
              "      <td>87</td>\n",
              "      <td>101</td>\n",
              "      <td>115</td>\n",
              "      <td>124</td>\n",
              "      <td>131</td>\n",
              "      <td>135</td>\n",
              "      <td>139</td>\n",
              "      <td>...</td>\n",
              "      <td>187</td>\n",
              "      <td>189</td>\n",
              "      <td>192</td>\n",
              "      <td>193</td>\n",
              "      <td>194</td>\n",
              "      <td>194</td>\n",
              "      <td>194</td>\n",
              "      <td>195</td>\n",
              "      <td>195</td>\n",
              "      <td>194</td>\n",
              "    </tr>\n",
              "    <tr>\n",
              "      <th>6</th>\n",
              "      <td>10</td>\n",
              "      <td>93</td>\n",
              "      <td>100</td>\n",
              "      <td>112</td>\n",
              "      <td>118</td>\n",
              "      <td>123</td>\n",
              "      <td>127</td>\n",
              "      <td>131</td>\n",
              "      <td>133</td>\n",
              "      <td>136</td>\n",
              "      <td>...</td>\n",
              "      <td>173</td>\n",
              "      <td>175</td>\n",
              "      <td>177</td>\n",
              "      <td>178</td>\n",
              "      <td>180</td>\n",
              "      <td>180</td>\n",
              "      <td>181</td>\n",
              "      <td>181</td>\n",
              "      <td>181</td>\n",
              "      <td>183</td>\n",
              "    </tr>\n",
              "    <tr>\n",
              "      <th>7</th>\n",
              "      <td>14</td>\n",
              "      <td>177</td>\n",
              "      <td>177</td>\n",
              "      <td>177</td>\n",
              "      <td>177</td>\n",
              "      <td>177</td>\n",
              "      <td>178</td>\n",
              "      <td>179</td>\n",
              "      <td>179</td>\n",
              "      <td>178</td>\n",
              "      <td>...</td>\n",
              "      <td>232</td>\n",
              "      <td>223</td>\n",
              "      <td>224</td>\n",
              "      <td>224</td>\n",
              "      <td>223</td>\n",
              "      <td>221</td>\n",
              "      <td>221</td>\n",
              "      <td>221</td>\n",
              "      <td>220</td>\n",
              "      <td>219</td>\n",
              "    </tr>\n",
              "    <tr>\n",
              "      <th>8</th>\n",
              "      <td>3</td>\n",
              "      <td>191</td>\n",
              "      <td>194</td>\n",
              "      <td>196</td>\n",
              "      <td>198</td>\n",
              "      <td>201</td>\n",
              "      <td>203</td>\n",
              "      <td>204</td>\n",
              "      <td>205</td>\n",
              "      <td>205</td>\n",
              "      <td>...</td>\n",
              "      <td>43</td>\n",
              "      <td>57</td>\n",
              "      <td>78</td>\n",
              "      <td>64</td>\n",
              "      <td>47</td>\n",
              "      <td>62</td>\n",
              "      <td>65</td>\n",
              "      <td>62</td>\n",
              "      <td>62</td>\n",
              "      <td>68</td>\n",
              "    </tr>\n",
              "    <tr>\n",
              "      <th>9</th>\n",
              "      <td>7</td>\n",
              "      <td>171</td>\n",
              "      <td>172</td>\n",
              "      <td>172</td>\n",
              "      <td>173</td>\n",
              "      <td>173</td>\n",
              "      <td>173</td>\n",
              "      <td>173</td>\n",
              "      <td>173</td>\n",
              "      <td>172</td>\n",
              "      <td>...</td>\n",
              "      <td>199</td>\n",
              "      <td>199</td>\n",
              "      <td>198</td>\n",
              "      <td>196</td>\n",
              "      <td>195</td>\n",
              "      <td>194</td>\n",
              "      <td>183</td>\n",
              "      <td>85</td>\n",
              "      <td>65</td>\n",
              "      <td>124</td>\n",
              "    </tr>\n",
              "  </tbody>\n",
              "</table>\n",
              "<p>10 rows × 785 columns</p>\n",
              "</div>\n",
              "      <button class=\"colab-df-convert\" onclick=\"convertToInteractive('df-0256df95-305d-4de1-99a1-1cb2b9cd4c23')\"\n",
              "              title=\"Convert this dataframe to an interactive table.\"\n",
              "              style=\"display:none;\">\n",
              "        \n",
              "  <svg xmlns=\"http://www.w3.org/2000/svg\" height=\"24px\"viewBox=\"0 0 24 24\"\n",
              "       width=\"24px\">\n",
              "    <path d=\"M0 0h24v24H0V0z\" fill=\"none\"/>\n",
              "    <path d=\"M18.56 5.44l.94 2.06.94-2.06 2.06-.94-2.06-.94-.94-2.06-.94 2.06-2.06.94zm-11 1L8.5 8.5l.94-2.06 2.06-.94-2.06-.94L8.5 2.5l-.94 2.06-2.06.94zm10 10l.94 2.06.94-2.06 2.06-.94-2.06-.94-.94-2.06-.94 2.06-2.06.94z\"/><path d=\"M17.41 7.96l-1.37-1.37c-.4-.4-.92-.59-1.43-.59-.52 0-1.04.2-1.43.59L10.3 9.45l-7.72 7.72c-.78.78-.78 2.05 0 2.83L4 21.41c.39.39.9.59 1.41.59.51 0 1.02-.2 1.41-.59l7.78-7.78 2.81-2.81c.8-.78.8-2.07 0-2.86zM5.41 20L4 18.59l7.72-7.72 1.47 1.35L5.41 20z\"/>\n",
              "  </svg>\n",
              "      </button>\n",
              "      \n",
              "  <style>\n",
              "    .colab-df-container {\n",
              "      display:flex;\n",
              "      flex-wrap:wrap;\n",
              "      gap: 12px;\n",
              "    }\n",
              "\n",
              "    .colab-df-convert {\n",
              "      background-color: #E8F0FE;\n",
              "      border: none;\n",
              "      border-radius: 50%;\n",
              "      cursor: pointer;\n",
              "      display: none;\n",
              "      fill: #1967D2;\n",
              "      height: 32px;\n",
              "      padding: 0 0 0 0;\n",
              "      width: 32px;\n",
              "    }\n",
              "\n",
              "    .colab-df-convert:hover {\n",
              "      background-color: #E2EBFA;\n",
              "      box-shadow: 0px 1px 2px rgba(60, 64, 67, 0.3), 0px 1px 3px 1px rgba(60, 64, 67, 0.15);\n",
              "      fill: #174EA6;\n",
              "    }\n",
              "\n",
              "    [theme=dark] .colab-df-convert {\n",
              "      background-color: #3B4455;\n",
              "      fill: #D2E3FC;\n",
              "    }\n",
              "\n",
              "    [theme=dark] .colab-df-convert:hover {\n",
              "      background-color: #434B5C;\n",
              "      box-shadow: 0px 1px 3px 1px rgba(0, 0, 0, 0.15);\n",
              "      filter: drop-shadow(0px 1px 2px rgba(0, 0, 0, 0.3));\n",
              "      fill: #FFFFFF;\n",
              "    }\n",
              "  </style>\n",
              "\n",
              "      <script>\n",
              "        const buttonEl =\n",
              "          document.querySelector('#df-0256df95-305d-4de1-99a1-1cb2b9cd4c23 button.colab-df-convert');\n",
              "        buttonEl.style.display =\n",
              "          google.colab.kernel.accessAllowed ? 'block' : 'none';\n",
              "\n",
              "        async function convertToInteractive(key) {\n",
              "          const element = document.querySelector('#df-0256df95-305d-4de1-99a1-1cb2b9cd4c23');\n",
              "          const dataTable =\n",
              "            await google.colab.kernel.invokeFunction('convertToInteractive',\n",
              "                                                     [key], {});\n",
              "          if (!dataTable) return;\n",
              "\n",
              "          const docLinkHtml = 'Like what you see? Visit the ' +\n",
              "            '<a target=\"_blank\" href=https://colab.research.google.com/notebooks/data_table.ipynb>data table notebook</a>'\n",
              "            + ' to learn more about interactive tables.';\n",
              "          element.innerHTML = '';\n",
              "          dataTable['output_type'] = 'display_data';\n",
              "          await google.colab.output.renderOutput(dataTable, element);\n",
              "          const docLink = document.createElement('div');\n",
              "          docLink.innerHTML = docLinkHtml;\n",
              "          element.appendChild(docLink);\n",
              "        }\n",
              "      </script>\n",
              "    </div>\n",
              "  </div>\n",
              "  "
            ]
          },
          "metadata": {},
          "execution_count": 59
        }
      ]
    },
    {
      "cell_type": "code",
      "source": [
        "def getImageFromTrain(index):\n",
        "  row = df_train.loc[index].tolist()\n",
        "  sign = row[0]\n",
        "  row = row[1:]\n",
        "  width, height = 28, 28\n",
        "  img = Image.new(\"L\", (width, height))\n",
        "  img.putdata(row)\n",
        "  newsize = (300, 300)\n",
        "  img = img.resize(newsize)\n",
        "  img.show()\n",
        "  print(\"Sign: \", sign_map[sign])"
      ],
      "metadata": {
        "id": "OiU2xSPnWMXJ"
      },
      "execution_count": null,
      "outputs": []
    },
    {
      "cell_type": "code",
      "source": [
        "def getImageFromTest(index):\n",
        "  row = df_test.loc[index].tolist()\n",
        "  sign = row[0]\n",
        "  row = row[1:]\n",
        "  width, height = 28, 28\n",
        "  img = Image.new(\"L\", (width, height))\n",
        "  img.putdata(row)\n",
        "  newsize = (300, 300)\n",
        "  img = img.resize(newsize)\n",
        "  img.show()\n",
        "  print(\"Sign: \", sign_map[sign])"
      ],
      "metadata": {
        "id": "vGiZONqlzJbA"
      },
      "execution_count": null,
      "outputs": []
    },
    {
      "cell_type": "code",
      "source": [
        "def getImage(row):\n",
        "  print(row)\n",
        "  sign = row['label']\n",
        "  print(sign)\n",
        "  row = row[1:]\n",
        "  width, height = 28, 28\n",
        "  img = Image.new(\"L\", (width, height))\n",
        "  img.putdata(row)\n",
        "  newsize = (300, 300)\n",
        "  img = img.resize(newsize)\n",
        "  img.show()\n",
        "  print(\"Sign: \", sign_map[sign])"
      ],
      "metadata": {
        "id": "6SjJiBD-Ke_B"
      },
      "execution_count": null,
      "outputs": []
    },
    {
      "cell_type": "code",
      "source": [
        "getImage(df_train.loc[2])"
      ],
      "metadata": {
        "colab": {
          "base_uri": "https://localhost:8080/",
          "height": 335
        },
        "id": "3ze5bFMWKolc",
        "outputId": "d7f353ca-c3f5-4558-9a5b-0e51654b317b"
      },
      "execution_count": null,
      "outputs": [
        {
          "output_type": "display_data",
          "data": {
            "text/plain": [
              "<PIL.Image.Image image mode=L size=300x300 at 0x7F79FD2D9180>"
            ],
            "image/png": "[encoded data removed]"
          },
          "metadata": {}
        },
        {
          "output_type": "stream",
          "name": "stdout",
          "text": [
            "Sign:  C\n"
          ]
        }
      ]
    },
    {
      "cell_type": "markdown",
      "source": [
        "# Method 1: Image Centroids"
      ],
      "metadata": {
        "id": "CDt3WOlvwpuU"
      }
    },
    {
      "cell_type": "code",
      "source": [
        "df_train_A = df_train.loc[df_train['label'] == 0]"
      ],
      "metadata": {
        "id": "4woTttAsYcZc"
      },
      "execution_count": null,
      "outputs": []
    },
    {
      "cell_type": "code",
      "source": [
        "df_train.loc[2]"
      ],
      "metadata": {
        "colab": {
          "base_uri": "https://localhost:8080/"
        },
        "id": "K8GyRa56QHf7",
        "outputId": "de9e673a-d260-40d4-a036-2c2b1c7934d1"
      },
      "execution_count": null,
      "outputs": [
        {
          "output_type": "execute_result",
          "data": {
            "text/plain": [
              "label         2\n",
              "pixel1      187\n",
              "pixel2      188\n",
              "pixel3      188\n",
              "pixel4      187\n",
              "           ... \n",
              "pixel780    199\n",
              "pixel781    198\n",
              "pixel782    195\n",
              "pixel783    194\n",
              "pixel784    195\n",
              "Name: 2, Length: 785, dtype: int64"
            ]
          },
          "metadata": {},
          "execution_count": 65
        }
      ]
    },
    {
      "cell_type": "code",
      "source": [
        "df_train_A.mean().astype(int)"
      ],
      "metadata": {
        "colab": {
          "base_uri": "https://localhost:8080/"
        },
        "id": "LniPbGaFOJdw",
        "outputId": "71850eb0-5fa7-4b20-c6d7-fd8f14e73781"
      },
      "execution_count": null,
      "outputs": [
        {
          "output_type": "execute_result",
          "data": {
            "text/plain": [
              "label         0\n",
              "pixel1      164\n",
              "pixel2      165\n",
              "pixel3      162\n",
              "pixel4      161\n",
              "           ... \n",
              "pixel780    184\n",
              "pixel781    182\n",
              "pixel782    182\n",
              "pixel783    178\n",
              "pixel784    174\n",
              "Length: 785, dtype: int64"
            ]
          },
          "metadata": {},
          "execution_count": 66
        }
      ]
    },
    {
      "cell_type": "markdown",
      "source": [
        "The getImage started only working for means when you also convert to type int. I swear it wasn't like this before and I don't know what changed"
      ],
      "metadata": {
        "id": "zL0GKIztRdNp"
      }
    },
    {
      "cell_type": "code",
      "source": [
        "getImage(df_train_A.mean().astype(int))"
      ],
      "metadata": {
        "id": "Nfi5VBGgZpdF",
        "colab": {
          "base_uri": "https://localhost:8080/",
          "height": 335
        },
        "outputId": "a76c34da-1831-49a0-b25b-fb0c1f0e364c"
      },
      "execution_count": null,
      "outputs": [
        {
          "output_type": "display_data",
          "data": {
            "text/plain": [
              "<PIL.Image.Image image mode=L size=300x300 at 0x7F79FD2DBB50>"
            ],
            "image/png": "[encoded data removed]"
          },
          "metadata": {}
        },
        {
          "output_type": "stream",
          "name": "stdout",
          "text": [
            "Sign:  A\n"
          ]
        }
      ]
    },
    {
      "cell_type": "code",
      "source": [
        "sign_means = []"
      ],
      "metadata": {
        "id": "ySp1SF2s-voU"
      },
      "execution_count": null,
      "outputs": []
    },
    {
      "cell_type": "markdown",
      "source": [
        "\n",
        "for i in range(0,26):\n",
        "  sign_means.append(df_train.loc[df_train['label'] == i].mean())"
      ],
      "metadata": {
        "id": "qhbRs2FhQ3Ge"
      }
    },
    {
      "cell_type": "markdown",
      "source": [
        "temp = math.inf\n",
        "min_index_index = 0\n",
        "for i in range(0,26):\n",
        "  if (np.linalg.norm(sign_means[i][1:] - df_test.loc[1][1:]) < temp):\n",
        "    min_index_index = i\n",
        "    temp = np.linalg.norm(sign_means[i][1:] - df_test.loc[1][1:])\n",
        "print(sign_map[min_index_index])"
      ],
      "metadata": {
        "id": "NPhc3DFySTfc"
      }
    },
    {
      "cell_type": "code",
      "source": [
        "getImageFromTest(1)"
      ],
      "metadata": {
        "colab": {
          "base_uri": "https://localhost:8080/",
          "height": 335
        },
        "id": "Zpe1n7D0XV4n",
        "outputId": "5116cd97-0b85-4c57-d711-68658626dd41"
      },
      "execution_count": null,
      "outputs": [
        {
          "output_type": "display_data",
          "data": {
            "text/plain": [
              "<PIL.Image.Image image mode=L size=300x300 at 0x7F79FD2D9150>"
            ],
            "image/png": "[encoded data removed]"
          },
          "metadata": {}
        },
        {
          "output_type": "stream",
          "name": "stdout",
          "text": [
            "Sign:  F\n"
          ]
        }
      ]
    },
    {
      "cell_type": "code",
      "source": [
        "df_train.shape"
      ],
      "metadata": {
        "colab": {
          "base_uri": "https://localhost:8080/"
        },
        "id": "3TjosUfIK3w1",
        "outputId": "1802e3ef-bc53-43f2-f8ad-f7fccf68b5a8"
      },
      "execution_count": null,
      "outputs": [
        {
          "output_type": "execute_result",
          "data": {
            "text/plain": [
              "(27455, 785)"
            ]
          },
          "metadata": {},
          "execution_count": 70
        }
      ]
    },
    {
      "cell_type": "code",
      "source": [
        "true = df_test.iloc[:,0].tolist()"
      ],
      "metadata": {
        "id": "xcjBE2fCLAZr"
      },
      "execution_count": null,
      "outputs": []
    },
    {
      "cell_type": "code",
      "source": [
        "true = [sign_map[k] for k in true]"
      ],
      "metadata": {
        "id": "BQnwaiZA1PaS"
      },
      "execution_count": null,
      "outputs": []
    },
    {
      "cell_type": "code",
      "source": [
        "df_train.iloc[:,1:]"
      ],
      "metadata": {
        "colab": {
          "base_uri": "https://localhost:8080/",
          "height": 468
        },
        "id": "LwS0fF7Tuea1",
        "outputId": "271c68f0-f40f-4a7e-f3e4-70c742c3c9ae"
      },
      "execution_count": null,
      "outputs": [
        {
          "output_type": "execute_result",
          "data": {
            "text/plain": [
              "       label  pixel1  pixel2  pixel3  pixel4  pixel5  pixel6  pixel7  pixel8  \\\n",
              "0          3     107     118     127     134     139     143     146     150   \n",
              "1          6     155     157     156     156     156     157     156     158   \n",
              "2          2     187     188     188     187     187     186     187     188   \n",
              "3          2     211     211     212     212     211     210     211     210   \n",
              "4         13     164     167     170     172     176     179     180     184   \n",
              "...      ...     ...     ...     ...     ...     ...     ...     ...     ...   \n",
              "27450     13     189     189     190     190     192     193     193     193   \n",
              "27451     23     151     154     157     158     160     161     163     164   \n",
              "27452     18     174     174     174     174     174     175     175     174   \n",
              "27453     17     177     181     184     185     187     189     190     191   \n",
              "27454     23     179     180     180     180     182     181     182     183   \n",
              "\n",
              "       pixel9  ...  pixel775  pixel776  pixel777  pixel778  pixel779  \\\n",
              "0         153  ...       207       207       207       207       206   \n",
              "1         158  ...        69       149       128        87        94   \n",
              "2         187  ...       202       201       200       199       198   \n",
              "3         210  ...       235       234       233       231       230   \n",
              "4         185  ...        92       105       105       108       133   \n",
              "...       ...  ...       ...       ...       ...       ...       ...   \n",
              "27450     193  ...       132       165        99        77        52   \n",
              "27451     166  ...       198       198       198       198       198   \n",
              "27452     173  ...       121       196       209       208       206   \n",
              "27453     191  ...       119        56        27        58       102   \n",
              "27454     182  ...       108       132       170       194       214   \n",
              "\n",
              "       pixel780  pixel781  pixel782  pixel783  pixel784  \n",
              "0           206       206       204       203       202  \n",
              "1           163       175       103       135       149  \n",
              "2           199       198       195       194       195  \n",
              "3           226       225       222       229       163  \n",
              "4           163       157       163       164       179  \n",
              "...         ...       ...       ...       ...       ...  \n",
              "27450       200       234       200       222       225  \n",
              "27451       196       195       195       195       194  \n",
              "27452       204       203       202       200       200  \n",
              "27453        79        47        64        87        93  \n",
              "27454       203       197       205       209       215  \n",
              "\n",
              "[27455 rows x 785 columns]"
            ],
            "text/html": [
              "\n",
              "  <div id=\"df-3f2b7193-64d5-4026-9dba-c83ed4eb6a59\">\n",
              "    <div class=\"colab-df-container\">\n",
              "      <div>\n",
              "<style scoped>\n",
              "    .dataframe tbody tr th:only-of-type {\n",
              "        vertical-align: middle;\n",
              "    }\n",
              "\n",
              "    .dataframe tbody tr th {\n",
              "        vertical-align: top;\n",
              "    }\n",
              "\n",
              "    .dataframe thead th {\n",
              "        text-align: right;\n",
              "    }\n",
              "</style>\n",
              "<table border=\"1\" class=\"dataframe\">\n",
              "  <thead>\n",
              "    <tr style=\"text-align: right;\">\n",
              "      <th></th>\n",
              "      <th>label</th>\n",
              "      <th>pixel1</th>\n",
              "      <th>pixel2</th>\n",
              "      <th>pixel3</th>\n",
              "      <th>pixel4</th>\n",
              "      <th>pixel5</th>\n",
              "      <th>pixel6</th>\n",
              "      <th>pixel7</th>\n",
              "      <th>pixel8</th>\n",
              "      <th>pixel9</th>\n",
              "      <th>...</th>\n",
              "      <th>pixel775</th>\n",
              "      <th>pixel776</th>\n",
              "      <th>pixel777</th>\n",
              "      <th>pixel778</th>\n",
              "      <th>pixel779</th>\n",
              "      <th>pixel780</th>\n",
              "      <th>pixel781</th>\n",
              "      <th>pixel782</th>\n",
              "      <th>pixel783</th>\n",
              "      <th>pixel784</th>\n",
              "    </tr>\n",
              "  </thead>\n",
              "  <tbody>\n",
              "    <tr>\n",
              "      <th>0</th>\n",
              "      <td>3</td>\n",
              "      <td>107</td>\n",
              "      <td>118</td>\n",
              "      <td>127</td>\n",
              "      <td>134</td>\n",
              "      <td>139</td>\n",
              "      <td>143</td>\n",
              "      <td>146</td>\n",
              "      <td>150</td>\n",
              "      <td>153</td>\n",
              "      <td>...</td>\n",
              "      <td>207</td>\n",
              "      <td>207</td>\n",
              "      <td>207</td>\n",
              "      <td>207</td>\n",
              "      <td>206</td>\n",
              "      <td>206</td>\n",
              "      <td>206</td>\n",
              "      <td>204</td>\n",
              "      <td>203</td>\n",
              "      <td>202</td>\n",
              "    </tr>\n",
              "    <tr>\n",
              "      <th>1</th>\n",
              "      <td>6</td>\n",
              "      <td>155</td>\n",
              "      <td>157</td>\n",
              "      <td>156</td>\n",
              "      <td>156</td>\n",
              "      <td>156</td>\n",
              "      <td>157</td>\n",
              "      <td>156</td>\n",
              "      <td>158</td>\n",
              "      <td>158</td>\n",
              "      <td>...</td>\n",
              "      <td>69</td>\n",
              "      <td>149</td>\n",
              "      <td>128</td>\n",
              "      <td>87</td>\n",
              "      <td>94</td>\n",
              "      <td>163</td>\n",
              "      <td>175</td>\n",
              "      <td>103</td>\n",
              "      <td>135</td>\n",
              "      <td>149</td>\n",
              "    </tr>\n",
              "    <tr>\n",
              "      <th>2</th>\n",
              "      <td>2</td>\n",
              "      <td>187</td>\n",
              "      <td>188</td>\n",
              "      <td>188</td>\n",
              "      <td>187</td>\n",
              "      <td>187</td>\n",
              "      <td>186</td>\n",
              "      <td>187</td>\n",
              "      <td>188</td>\n",
              "      <td>187</td>\n",
              "      <td>...</td>\n",
              "      <td>202</td>\n",
              "      <td>201</td>\n",
              "      <td>200</td>\n",
              "      <td>199</td>\n",
              "      <td>198</td>\n",
              "      <td>199</td>\n",
              "      <td>198</td>\n",
              "      <td>195</td>\n",
              "      <td>194</td>\n",
              "      <td>195</td>\n",
              "    </tr>\n",
              "    <tr>\n",
              "      <th>3</th>\n",
              "      <td>2</td>\n",
              "      <td>211</td>\n",
              "      <td>211</td>\n",
              "      <td>212</td>\n",
              "      <td>212</td>\n",
              "      <td>211</td>\n",
              "      <td>210</td>\n",
              "      <td>211</td>\n",
              "      <td>210</td>\n",
              "      <td>210</td>\n",
              "      <td>...</td>\n",
              "      <td>235</td>\n",
              "      <td>234</td>\n",
              "      <td>233</td>\n",
              "      <td>231</td>\n",
              "      <td>230</td>\n",
              "      <td>226</td>\n",
              "      <td>225</td>\n",
              "      <td>222</td>\n",
              "      <td>229</td>\n",
              "      <td>163</td>\n",
              "    </tr>\n",
              "    <tr>\n",
              "      <th>4</th>\n",
              "      <td>13</td>\n",
              "      <td>164</td>\n",
              "      <td>167</td>\n",
              "      <td>170</td>\n",
              "      <td>172</td>\n",
              "      <td>176</td>\n",
              "      <td>179</td>\n",
              "      <td>180</td>\n",
              "      <td>184</td>\n",
              "      <td>185</td>\n",
              "      <td>...</td>\n",
              "      <td>92</td>\n",
              "      <td>105</td>\n",
              "      <td>105</td>\n",
              "      <td>108</td>\n",
              "      <td>133</td>\n",
              "      <td>163</td>\n",
              "      <td>157</td>\n",
              "      <td>163</td>\n",
              "      <td>164</td>\n",
              "      <td>179</td>\n",
              "    </tr>\n",
              "    <tr>\n",
              "      <th>...</th>\n",
              "      <td>...</td>\n",
              "      <td>...</td>\n",
              "      <td>...</td>\n",
              "      <td>...</td>\n",
              "      <td>...</td>\n",
              "      <td>...</td>\n",
              "      <td>...</td>\n",
              "      <td>...</td>\n",
              "      <td>...</td>\n",
              "      <td>...</td>\n",
              "      <td>...</td>\n",
              "      <td>...</td>\n",
              "      <td>...</td>\n",
              "      <td>...</td>\n",
              "      <td>...</td>\n",
              "      <td>...</td>\n",
              "      <td>...</td>\n",
              "      <td>...</td>\n",
              "      <td>...</td>\n",
              "      <td>...</td>\n",
              "      <td>...</td>\n",
              "    </tr>\n",
              "    <tr>\n",
              "      <th>27450</th>\n",
              "      <td>13</td>\n",
              "      <td>189</td>\n",
              "      <td>189</td>\n",
              "      <td>190</td>\n",
              "      <td>190</td>\n",
              "      <td>192</td>\n",
              "      <td>193</td>\n",
              "      <td>193</td>\n",
              "      <td>193</td>\n",
              "      <td>193</td>\n",
              "      <td>...</td>\n",
              "      <td>132</td>\n",
              "      <td>165</td>\n",
              "      <td>99</td>\n",
              "      <td>77</td>\n",
              "      <td>52</td>\n",
              "      <td>200</td>\n",
              "      <td>234</td>\n",
              "      <td>200</td>\n",
              "      <td>222</td>\n",
              "      <td>225</td>\n",
              "    </tr>\n",
              "    <tr>\n",
              "      <th>27451</th>\n",
              "      <td>23</td>\n",
              "      <td>151</td>\n",
              "      <td>154</td>\n",
              "      <td>157</td>\n",
              "      <td>158</td>\n",
              "      <td>160</td>\n",
              "      <td>161</td>\n",
              "      <td>163</td>\n",
              "      <td>164</td>\n",
              "      <td>166</td>\n",
              "      <td>...</td>\n",
              "      <td>198</td>\n",
              "      <td>198</td>\n",
              "      <td>198</td>\n",
              "      <td>198</td>\n",
              "      <td>198</td>\n",
              "      <td>196</td>\n",
              "      <td>195</td>\n",
              "      <td>195</td>\n",
              "      <td>195</td>\n",
              "      <td>194</td>\n",
              "    </tr>\n",
              "    <tr>\n",
              "      <th>27452</th>\n",
              "      <td>18</td>\n",
              "      <td>174</td>\n",
              "      <td>174</td>\n",
              "      <td>174</td>\n",
              "      <td>174</td>\n",
              "      <td>174</td>\n",
              "      <td>175</td>\n",
              "      <td>175</td>\n",
              "      <td>174</td>\n",
              "      <td>173</td>\n",
              "      <td>...</td>\n",
              "      <td>121</td>\n",
              "      <td>196</td>\n",
              "      <td>209</td>\n",
              "      <td>208</td>\n",
              "      <td>206</td>\n",
              "      <td>204</td>\n",
              "      <td>203</td>\n",
              "      <td>202</td>\n",
              "      <td>200</td>\n",
              "      <td>200</td>\n",
              "    </tr>\n",
              "    <tr>\n",
              "      <th>27453</th>\n",
              "      <td>17</td>\n",
              "      <td>177</td>\n",
              "      <td>181</td>\n",
              "      <td>184</td>\n",
              "      <td>185</td>\n",
              "      <td>187</td>\n",
              "      <td>189</td>\n",
              "      <td>190</td>\n",
              "      <td>191</td>\n",
              "      <td>191</td>\n",
              "      <td>...</td>\n",
              "      <td>119</td>\n",
              "      <td>56</td>\n",
              "      <td>27</td>\n",
              "      <td>58</td>\n",
              "      <td>102</td>\n",
              "      <td>79</td>\n",
              "      <td>47</td>\n",
              "      <td>64</td>\n",
              "      <td>87</td>\n",
              "      <td>93</td>\n",
              "    </tr>\n",
              "    <tr>\n",
              "      <th>27454</th>\n",
              "      <td>23</td>\n",
              "      <td>179</td>\n",
              "      <td>180</td>\n",
              "      <td>180</td>\n",
              "      <td>180</td>\n",
              "      <td>182</td>\n",
              "      <td>181</td>\n",
              "      <td>182</td>\n",
              "      <td>183</td>\n",
              "      <td>182</td>\n",
              "      <td>...</td>\n",
              "      <td>108</td>\n",
              "      <td>132</td>\n",
              "      <td>170</td>\n",
              "      <td>194</td>\n",
              "      <td>214</td>\n",
              "      <td>203</td>\n",
              "      <td>197</td>\n",
              "      <td>205</td>\n",
              "      <td>209</td>\n",
              "      <td>215</td>\n",
              "    </tr>\n",
              "  </tbody>\n",
              "</table>\n",
              "<p>27455 rows × 785 columns</p>\n",
              "</div>\n",
              "      <button class=\"colab-df-convert\" onclick=\"convertToInteractive('df-3f2b7193-64d5-4026-9dba-c83ed4eb6a59')\"\n",
              "              title=\"Convert this dataframe to an interactive table.\"\n",
              "              style=\"display:none;\">\n",
              "        \n",
              "  <svg xmlns=\"http://www.w3.org/2000/svg\" height=\"24px\"viewBox=\"0 0 24 24\"\n",
              "       width=\"24px\">\n",
              "    <path d=\"M0 0h24v24H0V0z\" fill=\"none\"/>\n",
              "    <path d=\"M18.56 5.44l.94 2.06.94-2.06 2.06-.94-2.06-.94-.94-2.06-.94 2.06-2.06.94zm-11 1L8.5 8.5l.94-2.06 2.06-.94-2.06-.94L8.5 2.5l-.94 2.06-2.06.94zm10 10l.94 2.06.94-2.06 2.06-.94-2.06-.94-.94-2.06-.94 2.06-2.06.94z\"/><path d=\"M17.41 7.96l-1.37-1.37c-.4-.4-.92-.59-1.43-.59-.52 0-1.04.2-1.43.59L10.3 9.45l-7.72 7.72c-.78.78-.78 2.05 0 2.83L4 21.41c.39.39.9.59 1.41.59.51 0 1.02-.2 1.41-.59l7.78-7.78 2.81-2.81c.8-.78.8-2.07 0-2.86zM5.41 20L4 18.59l7.72-7.72 1.47 1.35L5.41 20z\"/>\n",
              "  </svg>\n",
              "      </button>\n",
              "      \n",
              "  <style>\n",
              "    .colab-df-container {\n",
              "      display:flex;\n",
              "      flex-wrap:wrap;\n",
              "      gap: 12px;\n",
              "    }\n",
              "\n",
              "    .colab-df-convert {\n",
              "      background-color: #E8F0FE;\n",
              "      border: none;\n",
              "      border-radius: 50%;\n",
              "      cursor: pointer;\n",
              "      display: none;\n",
              "      fill: #1967D2;\n",
              "      height: 32px;\n",
              "      padding: 0 0 0 0;\n",
              "      width: 32px;\n",
              "    }\n",
              "\n",
              "    .colab-df-convert:hover {\n",
              "      background-color: #E2EBFA;\n",
              "      box-shadow: 0px 1px 2px rgba(60, 64, 67, 0.3), 0px 1px 3px 1px rgba(60, 64, 67, 0.15);\n",
              "      fill: #174EA6;\n",
              "    }\n",
              "\n",
              "    [theme=dark] .colab-df-convert {\n",
              "      background-color: #3B4455;\n",
              "      fill: #D2E3FC;\n",
              "    }\n",
              "\n",
              "    [theme=dark] .colab-df-convert:hover {\n",
              "      background-color: #434B5C;\n",
              "      box-shadow: 0px 1px 3px 1px rgba(0, 0, 0, 0.15);\n",
              "      filter: drop-shadow(0px 1px 2px rgba(0, 0, 0, 0.3));\n",
              "      fill: #FFFFFF;\n",
              "    }\n",
              "  </style>\n",
              "\n",
              "      <script>\n",
              "        const buttonEl =\n",
              "          document.querySelector('#df-3f2b7193-64d5-4026-9dba-c83ed4eb6a59 button.colab-df-convert');\n",
              "        buttonEl.style.display =\n",
              "          google.colab.kernel.accessAllowed ? 'block' : 'none';\n",
              "\n",
              "        async function convertToInteractive(key) {\n",
              "          const element = document.querySelector('#df-3f2b7193-64d5-4026-9dba-c83ed4eb6a59');\n",
              "          const dataTable =\n",
              "            await google.colab.kernel.invokeFunction('convertToInteractive',\n",
              "                                                     [key], {});\n",
              "          if (!dataTable) return;\n",
              "\n",
              "          const docLinkHtml = 'Like what you see? Visit the ' +\n",
              "            '<a target=\"_blank\" href=https://colab.research.google.com/notebooks/data_table.ipynb>data table notebook</a>'\n",
              "            + ' to learn more about interactive tables.';\n",
              "          element.innerHTML = '';\n",
              "          dataTable['output_type'] = 'display_data';\n",
              "          await google.colab.output.renderOutput(dataTable, element);\n",
              "          const docLink = document.createElement('div');\n",
              "          docLink.innerHTML = docLinkHtml;\n",
              "          element.appendChild(docLink);\n",
              "        }\n",
              "      </script>\n",
              "    </div>\n",
              "  </div>\n",
              "  "
            ]
          },
          "metadata": {},
          "execution_count": 84
        }
      ]
    },
    {
      "cell_type": "markdown",
      "source": [
        "Initial, inefficient implementation"
      ],
      "metadata": {
        "id": "UqCkDS1C_u24"
      }
    },
    {
      "cell_type": "code",
      "source": [
        "class CentroidCompOld:\n",
        "  def __init__(self):\n",
        "    self.sign_means = []\n",
        "    self.signs = 26\n",
        "\n",
        "  def train(self,X):\n",
        "    for i in range(0,26):\n",
        "      self.sign_means.append(X.loc[X['label'] == i].mean())\n",
        "\n",
        "  def get_centroids(self):\n",
        "    return self.sign_means\n",
        "\n",
        "  def predict(self,X):\n",
        "    y_pred = []\n",
        "    for index, row in tqdm(X.iterrows(), total=X.shape[0]):\n",
        "        temp = math.inf\n",
        "        min_index_index = 0\n",
        "        for i in range(0,26):\n",
        "          diff = np.linalg.norm(self.sign_means[i][1:] - X.loc[index][1:])\n",
        "          if (diff < temp):\n",
        "            min_index_index = i\n",
        "            temp = diff\n",
        "        y_pred.append(sign_map[min_index_index])        \n",
        "    return y_pred"
      ],
      "metadata": {
        "id": "W_DoTmQXaNBR"
      },
      "execution_count": null,
      "outputs": []
    },
    {
      "cell_type": "markdown",
      "source": [
        "More efficient implementation. Reading 6 on clustering methods gave us a good set of measures to implement to compare the class means and test data."
      ],
      "metadata": {
        "id": "-DaN9XwaJ7pY"
      }
    },
    {
      "cell_type": "code",
      "source": [
        "class CentroidComp:\n",
        "  def __init__(self,method=\"euclid\", verbose=False, debug=False):\n",
        "    self.sign_means = None\n",
        "    self.method = method\n",
        "    self.verbose = verbose\n",
        "    if self.verbose or self.debug:\n",
        "      print(\"Initialized centroid class with method \" + self.method)\n",
        "\n",
        "  def train(self,X):\n",
        "    self.sign_means = X.groupby('label').mean().to_numpy()\n",
        "    if self.verbose or self.debug:\n",
        "      print(\"Trained model\")\n",
        "\n",
        "  def get_centroids(self):\n",
        "    return self.sign_means\n",
        "\n",
        "  def predict(self,X):\n",
        "    y_pred = []\n",
        "    if self.verbose or self.debug:\n",
        "      print(\"Predicting model with \" + self.method)\n",
        "\n",
        "    if (self.method == \"euclid\"):\n",
        "      for i in range(len(X)):\n",
        "        rowi = X.iloc[:,1:].loc[i].to_numpy()\n",
        "        y_pred.append(reduced_sign_map[np.argmax(np.dot(self.sign_means,rowi) / (np.linalg.norm(self.sign_means, axis=1) * np.linalg.norm(rowi)))])\n",
        "    \n",
        "    elif (self.method == \"cos\"):\n",
        "      for i in range(len(X)):\n",
        "        rowi = X.iloc[:,1:].loc[i].to_numpy()\n",
        "        y_pred.append(reduced_sign_map[np.argmin(np.linalg.norm(self.sign_means - rowi, axis=1))])\n",
        "    \n",
        "    elif (self.method == \"man\"):\n",
        "      for i in range(len(X)):\n",
        "        rowi = X.iloc[:,1:].loc[i].to_numpy()\n",
        "        y_pred.append(reduced_sign_map[np.argmin(np.sum(np.abs(self.sign_means - rowi), axis=1))])\n",
        "\n",
        "    elif (self.method == \"cor\"):\n",
        "      for i in range(len(X)):\n",
        "        rowi = X.iloc[:,1:].loc[i].to_numpy()\n",
        "        corr = np.corrcoef(self.sign_means, rowi)\n",
        "        coefs = corr[:-1, -1]\n",
        "        y_pred.append(reduced_sign_map[np.argmax(coefs)])\n",
        "\n",
        "    else:\n",
        "      return \"you messed up\"\n",
        "\n",
        "    return y_pred"
      ],
      "metadata": {
        "id": "PG9klYy8whIu"
      },
      "execution_count": null,
      "outputs": []
    },
    {
      "cell_type": "code",
      "source": [
        "euclidModel = CentroidComp(method=\"euclid\", verbose=True)\n",
        "euclidModel.train(X = df_train)\n",
        "y_pred_euclid = euclidModel.predict(df_test)\n",
        "print(classification_report(y_pred_euclid, true))"
      ],
      "metadata": {
        "colab": {
          "base_uri": "https://localhost:8080/"
        },
        "id": "7Da_UFRD-7I1",
        "outputId": "4881e62e-34a3-4897-dafe-61d6b859c42f"
      },
      "execution_count": null,
      "outputs": [
        {
          "output_type": "stream",
          "name": "stdout",
          "text": [
            "Initialized centroid class with method euclid\n",
            "Trained model\n",
            "Predicting model with euclid\n",
            "              precision    recall  f1-score   support\n",
            "\n",
            "           A       0.76      0.56      0.65       448\n",
            "           B       0.66      0.93      0.77       304\n",
            "           C       0.61      0.67      0.64       281\n",
            "           D       0.44      0.47      0.46       232\n",
            "           E       0.66      0.76      0.71       435\n",
            "           F       0.56      0.49      0.52       284\n",
            "           G       0.48      0.51      0.49       329\n",
            "           H       0.58      0.83      0.68       304\n",
            "           I       0.24      0.29      0.27       240\n",
            "           K       0.53      0.30      0.39       575\n",
            "           L       0.66      0.63      0.64       218\n",
            "           M       0.18      0.36      0.24       199\n",
            "           N       0.25      0.37      0.30       196\n",
            "           O       0.60      0.51      0.55       289\n",
            "           P       0.82      0.49      0.62       577\n",
            "           Q       0.83      0.75      0.79       182\n",
            "           R       0.41      0.31      0.36       188\n",
            "           S       0.17      0.10      0.13       398\n",
            "           T       0.50      0.31      0.38       401\n",
            "           U       0.14      0.18      0.15       200\n",
            "           V       0.30      0.38      0.34       279\n",
            "           W       0.28      0.25      0.27       228\n",
            "           X       0.54      0.55      0.54       262\n",
            "           Y       0.18      0.50      0.27       123\n",
            "\n",
            "    accuracy                           0.48      7172\n",
            "   macro avg       0.47      0.48      0.46      7172\n",
            "weighted avg       0.51      0.48      0.48      7172\n",
            "\n"
          ]
        }
      ]
    },
    {
      "cell_type": "code",
      "source": [
        "cosModel = CentroidComp(method=\"cos\", verbose=True)\n",
        "cosModel.train(X = df_train)\n",
        "y_pred_cos = cosModel.predict(df_test)\n",
        "print(classification_report(y_pred_cos, true))"
      ],
      "metadata": {
        "colab": {
          "base_uri": "https://localhost:8080/"
        },
        "id": "A8TVdJda_MEi",
        "outputId": "a0cb80db-0aae-4591-c5b8-250ef60e37b1"
      },
      "execution_count": null,
      "outputs": [
        {
          "output_type": "stream",
          "name": "stdout",
          "text": [
            "Initialized centroid class with method cos\n",
            "Trained model\n",
            "Predicting model with cos\n",
            "              precision    recall  f1-score   support\n",
            "\n",
            "           A       0.56      0.58      0.57       323\n",
            "           B       0.47      0.93      0.63       220\n",
            "           C       0.53      0.67      0.59       244\n",
            "           D       0.33      0.53      0.41       150\n",
            "           E       0.51      0.63      0.56       407\n",
            "           F       0.30      0.37      0.33       195\n",
            "           G       0.43      0.52      0.47       290\n",
            "           H       0.42      0.77      0.54       237\n",
            "           I       0.36      0.16      0.23       640\n",
            "           K       0.40      0.26      0.32       499\n",
            "           L       0.36      0.66      0.46       114\n",
            "           M       0.11      0.32      0.17       137\n",
            "           N       0.19      0.42      0.26       132\n",
            "           O       0.40      0.43      0.42       229\n",
            "           P       0.80      0.39      0.53       712\n",
            "           Q       0.58      0.17      0.26       560\n",
            "           R       0.13      0.15      0.14       129\n",
            "           S       0.13      0.10      0.11       296\n",
            "           T       0.53      0.21      0.30       613\n",
            "           U       0.05      0.11      0.07       116\n",
            "           V       0.37      0.30      0.33       437\n",
            "           W       0.17      0.17      0.17       201\n",
            "           X       0.42      0.57      0.48       199\n",
            "           Y       0.14      0.52      0.23        92\n",
            "\n",
            "    accuracy                           0.38      7172\n",
            "   macro avg       0.36      0.41      0.36      7172\n",
            "weighted avg       0.44      0.38      0.37      7172\n",
            "\n"
          ]
        }
      ]
    },
    {
      "cell_type": "code",
      "source": [
        "manModel = CentroidComp(method=\"man\", verbose=True)\n",
        "manModel.train(X = df_train)\n",
        "y_pred_man = manModel.predict(df_test)\n",
        "print(classification_report(y_pred_man, true))"
      ],
      "metadata": {
        "colab": {
          "base_uri": "https://localhost:8080/"
        },
        "id": "llS46jlL_UEx",
        "outputId": "ac1e10c7-e612-4287-acf8-370ea2669fa1"
      },
      "execution_count": null,
      "outputs": [
        {
          "output_type": "stream",
          "name": "stdout",
          "text": [
            "Initialized centroid class with method man\n",
            "Trained model\n",
            "Predicting model with man\n",
            "              precision    recall  f1-score   support\n",
            "\n",
            "           A       0.49      0.55      0.51       295\n",
            "           B       0.31      0.85      0.46       160\n",
            "           C       0.56      0.65      0.61       268\n",
            "           D       0.25      0.63      0.36        99\n",
            "           E       0.47      0.44      0.45       541\n",
            "           F       0.27      0.25      0.26       263\n",
            "           G       0.39      0.41      0.40       333\n",
            "           H       0.33      0.78      0.46       182\n",
            "           I       0.40      0.14      0.21       789\n",
            "           K       0.39      0.22      0.28       584\n",
            "           L       0.33      0.52      0.40       132\n",
            "           M       0.09      0.41      0.15        85\n",
            "           N       0.12      0.40      0.18        88\n",
            "           O       0.36      0.37      0.36       238\n",
            "           P       0.76      0.42      0.54       628\n",
            "           Q       0.51      0.20      0.29       416\n",
            "           R       0.09      0.09      0.09       147\n",
            "           S       0.10      0.10      0.10       245\n",
            "           T       0.54      0.17      0.26       801\n",
            "           U       0.08      0.13      0.10       150\n",
            "           V       0.24      0.39      0.30       213\n",
            "           W       0.14      0.11      0.12       276\n",
            "           X       0.34      0.52      0.41       177\n",
            "           Y       0.13      0.69      0.22        62\n",
            "\n",
            "    accuracy                           0.33      7172\n",
            "   macro avg       0.32      0.39      0.31      7172\n",
            "weighted avg       0.41      0.33      0.33      7172\n",
            "\n"
          ]
        }
      ]
    },
    {
      "cell_type": "code",
      "source": [
        "corModel = CentroidComp(method=\"cor\", verbose=True)\n",
        "corModel.train(X = df_train)\n",
        "y_pred_cor = corModel.predict(df_test)\n",
        "print(classification_report(y_pred_cor, true))"
      ],
      "metadata": {
        "colab": {
          "base_uri": "https://localhost:8080/"
        },
        "id": "6lBrAID4_UHh",
        "outputId": "392303d5-1418-4594-fdee-e78e41dcecef"
      },
      "execution_count": null,
      "outputs": [
        {
          "output_type": "stream",
          "name": "stdout",
          "text": [
            "Initialized centroid class with method cor\n",
            "Trained model\n",
            "Predicting model with cor\n",
            "              precision    recall  f1-score   support\n",
            "\n",
            "           A       0.88      0.58      0.70       502\n",
            "           B       0.66      0.84      0.74       340\n",
            "           C       0.60      0.50      0.54       369\n",
            "           D       0.51      0.43      0.47       287\n",
            "           E       0.71      0.77      0.74       461\n",
            "           F       0.58      0.41      0.48       349\n",
            "           G       0.53      0.42      0.47       436\n",
            "           H       0.52      0.78      0.62       287\n",
            "           I       0.21      0.32      0.25       191\n",
            "           K       0.56      0.31      0.40       603\n",
            "           L       0.30      0.72      0.42        88\n",
            "           M       0.10      0.24      0.14       165\n",
            "           N       0.29      0.44      0.35       193\n",
            "           O       0.51      0.35      0.42       355\n",
            "           P       0.93      0.52      0.67       614\n",
            "           Q       0.74      0.60      0.66       203\n",
            "           R       0.28      0.33      0.30       120\n",
            "           S       0.34      0.21      0.26       397\n",
            "           T       0.50      0.37      0.43       334\n",
            "           U       0.08      0.13      0.10       162\n",
            "           V       0.30      0.61      0.40       169\n",
            "           W       0.31      0.35      0.33       179\n",
            "           X       0.61      0.57      0.59       285\n",
            "           Y       0.13      0.51      0.20        83\n",
            "\n",
            "    accuracy                           0.48      7172\n",
            "   macro avg       0.46      0.47      0.45      7172\n",
            "weighted avg       0.55      0.48      0.49      7172\n",
            "\n"
          ]
        }
      ]
    },
    {
      "cell_type": "markdown",
      "source": [
        "Euclid distance and pearson correlation are the best measures at nearly 50% accuracy."
      ],
      "metadata": {
        "id": "OXQ0WDwRAuW7"
      }
    },
    {
      "cell_type": "markdown",
      "source": [
        "# Method 2: SVD Bases"
      ],
      "metadata": {
        "id": "eirZfg30w6v3"
      }
    },
    {
      "cell_type": "markdown",
      "source": [
        "General\n",
        "\n",
        "**Training**: For the training set of known signs, compute the SVD of each set of signs of one kind.\n",
        "\n",
        "**Classification**: For a given test sign, compute its relative residual in all 10 bases. If one residual is significantly smaller than all others, classifiy aas that one.\n",
        "\n",
        "---\n",
        "\n",
        "Linear Algebra\n",
        "\n",
        "**Training**: Compute SVDs of 10 matrices of dimenion m^2 x ni. Each digit is an mxm digitized image. ni is the number of training signs i.\n",
        "\n",
        "**Classification**: Compute 10 least squares residuals\n",
        "\n",
        "\n"
      ],
      "metadata": {
        "id": "ipsr3rueMwGT"
      }
    },
    {
      "cell_type": "markdown",
      "source": [
        "TO DO\n",
        "- Experiment with number of bases\n",
        "- Determine best number of bases for this dataset"
      ],
      "metadata": {
        "id": "a75qYjHMB06M"
      }
    },
    {
      "cell_type": "code",
      "source": [
        "train_SVDs = []\n",
        "letters = df_train.groupby('label')\n",
        "for name,group in letters:\n",
        "  letter = group.drop('label', axis=1).values\n",
        "  train_SVDs.append(np.linalg.svd(letter))"
      ],
      "metadata": {
        "id": "WYwuaFhhy-D4"
      },
      "execution_count": null,
      "outputs": []
    },
    {
      "cell_type": "code",
      "source": [
        "fig = plt.figure(1, figsize = [15, 50], dpi = 100)\n",
        "c = 1\n",
        "for j in range(len(reduced_sign_map)):\n",
        "  for i in range(0,5):\n",
        "    plt.subplot(24,5,c)\n",
        "    plt.imshow(train_SVDs[j][2][i:i+1,:].reshape(28,28))\n",
        "    c = c+1\n",
        "fig.subplots_adjust(wspace=0.1)\n",
        "plt.show()"
      ],
      "metadata": {
        "id": "-J6-QOurz7_F"
      },
      "execution_count": null,
      "outputs": []
    },
    {
      "cell_type": "code",
      "source": [
        "# Randomized SVD as provided in notebook 12\n",
        "def rSVD(X,r,q,p):\n",
        "  # Step 1: Sample column space of X with P matrix\n",
        "  ny = X.shape[1]\n",
        "  P = np.random.randn(ny,r+p) # Gaussian Random Matrix\n",
        "  Z = X @ P\n",
        "  for k in range(q): # Power iteration\n",
        "      Z = X @ (X.T @ Z)\n",
        "\n",
        "  Q, R = np.linalg.qr(Z,mode='reduced')\n",
        "\n",
        "  # Step 2: Compute SVD on projected Y = Q.T @ X\n",
        "  Y = Q.T @ X\n",
        "  UY, S, VT = np.linalg.svd(Y,full_matrices=0)\n",
        "  U = Q @ UY\n",
        "\n",
        "  return U, S, VT"
      ],
      "metadata": {
        "id": "Jcbu_s3EaZPc"
      },
      "execution_count": null,
      "outputs": []
    },
    {
      "cell_type": "code",
      "source": [
        "class SVDBases:\n",
        "  def __init__(self, bases=5, method='SVD', verbose=False):\n",
        "    self.verbose = verbose\n",
        "    self.bases = bases\n",
        "    self.method = method\n",
        "    self.SVDs = []\n",
        "    if self.verbose:\n",
        "      print(\"Initialized SVD Bases class\")\n",
        "      \n",
        "  def train(self,X):\n",
        "    letters = X.groupby('label')\n",
        "    for name,group in letters:\n",
        "      letter = group.drop('label', axis=1).values\n",
        "      if (self.method=='SVD'):\n",
        "        U, s, Vt = np.linalg.svd(letter.T)\n",
        "        self.SVDs.append(U)\n",
        "      elif (self.method=='rSVD'):\n",
        "        U, s, Vt = randomized_svd(letter.T, n_components=10, random_state=0)\n",
        "        self.SVDs.append(U)\n",
        "      else:\n",
        "        print('Something went wrong')\n",
        "\n",
        "  def predict(self, X):\n",
        "    y_pred = []\n",
        "    diffs = []\n",
        "    for j in tqdm(range(len(X))):\n",
        "      rowi = X.iloc[:,1:].loc[j].to_numpy()\n",
        "      y_pred.append(reduced_sign_map[np.argmax(np.linalg.norm(np.dot(np.eye(784)-np.dot(self.SVDs[i][:, :self.bases], self.SVDs[i][:, :self.bases].T), rowi)))])\n",
        "\n",
        "      # y_pred.append(reduced_sign_map[np.argmax(np.dot(self.sign_means,rowi) / (np.linalg.norm(self.sign_means, axis=1) * np.linalg.norm(rowi)))])\n",
        "      '''\n",
        "      min=maxsize\n",
        "      index = 0\n",
        "      for i in range(len(reduced_sign_map)):\n",
        "        diff = np.linalg.norm(np.dot(np.eye(784)-np.dot(self.SVDs[i][:, :self.bases], self.SVDs[i][:, :self.bases].T), X.iloc[j, 1:].to_numpy()))\n",
        "        if (diff < min):\n",
        "          min = diff\n",
        "          index = i\n",
        "      '''\n",
        "      #y_pred.append(reduced_sign_map[index])\n",
        "    \n",
        "    return y_pred"
      ],
      "metadata": {
        "id": "Rn4qEBJ0YV3u"
      },
      "execution_count": null,
      "outputs": []
    },
    {
      "cell_type": "code",
      "source": [
        "letters = df_test.groupby('label')\n",
        "for name,group in letters:\n",
        "  letter = group.drop('label', axis=1).values\n",
        "  \n",
        "  U, s, Vt = np.linalg.svd(letter.T)\n",
        "  U2, s2, Vh2 = randomized_svd(letter.T, n_components=10, random_state=0)\n",
        "  print(U)\n",
        "  print()\n",
        "  print(U2)\n",
        "  break\n",
        "  "
      ],
      "metadata": {
        "colab": {
          "base_uri": "https://localhost:8080/"
        },
        "id": "a3cwlDtIbUZw",
        "outputId": "2d0b3c5b-cd6f-4bce-d23c-8ee0ff0fcbe6"
      },
      "execution_count": null,
      "outputs": [
        {
          "output_type": "stream",
          "name": "stdout",
          "text": [
            "[[-0.03845749 -0.01818469  0.00483292 ... -0.05450355 -0.01298206\n",
            "   0.00824873]\n",
            " [-0.03859713 -0.01711765  0.00497491 ... -0.03651582 -0.07057396\n",
            "  -0.01212554]\n",
            " [-0.03886988 -0.01593881  0.0047012  ...  0.00147281 -0.04405631\n",
            "   0.00124651]\n",
            " ...\n",
            " [-0.03903079  0.00263583  0.05443959 ...  0.64120889 -0.01543077\n",
            "  -0.01343121]\n",
            " [-0.0399325   0.00632415  0.06263392 ... -0.03074348  0.60499101\n",
            "  -0.09753548]\n",
            " [-0.04027757  0.00839279  0.06652867 ... -0.00955598 -0.09039919\n",
            "   0.60145059]]\n",
            "\n",
            "[[ 0.03845749  0.01818469 -0.00483292 ...  0.01117598 -0.00023196\n",
            "  -0.01544173]\n",
            " [ 0.03859713  0.01711765 -0.00497491 ...  0.00754624 -0.00037418\n",
            "  -0.01273962]\n",
            " [ 0.03886988  0.01593881 -0.0047012  ...  0.00556018 -0.00276744\n",
            "  -0.01313671]\n",
            " ...\n",
            " [ 0.03903079 -0.00263583 -0.05443959 ... -0.06434523 -0.04030173\n",
            "   0.01128286]\n",
            " [ 0.0399325  -0.00632415 -0.06263392 ... -0.05056257 -0.0113273\n",
            "   0.02424279]\n",
            " [ 0.04027757 -0.00839279 -0.06652867 ... -0.03959154  0.00482414\n",
            "   0.02412493]]\n"
          ]
        }
      ]
    },
    {
      "cell_type": "code",
      "source": [
        "SVDmodel = SVDBases(verbose=True, method='SVD', bases=20)"
      ],
      "metadata": {
        "colab": {
          "base_uri": "https://localhost:8080/"
        },
        "id": "k5ltI3CEAxsH",
        "outputId": "fa718d9f-d6d3-4afb-caa1-95763abd1ddc"
      },
      "execution_count": null,
      "outputs": [
        {
          "output_type": "stream",
          "name": "stdout",
          "text": [
            "Initialized SVD Bases class\n"
          ]
        }
      ]
    },
    {
      "cell_type": "code",
      "source": [
        "SVDmodel.train(df_train)"
      ],
      "metadata": {
        "id": "C5Tf47L7Fkb_"
      },
      "execution_count": null,
      "outputs": []
    },
    {
      "cell_type": "code",
      "source": [
        "y_pred = SVDmodel.predict(df_test)"
      ],
      "metadata": {
        "colab": {
          "base_uri": "https://localhost:8080/",
          "height": 312
        },
        "id": "_DVUcZFQHUfP",
        "outputId": "b852344a-969a-4e66-8e4a-a54b52c571f2"
      },
      "execution_count": null,
      "outputs": [
        {
          "output_type": "stream",
          "name": "stderr",
          "text": [
            "  0%|          | 0/7172 [00:00<?, ?it/s]\n"
          ]
        },
        {
          "output_type": "error",
          "ename": "TypeError",
          "evalue": "ignored",
          "traceback": [
            "\u001b[0;31m---------------------------------------------------------------------------\u001b[0m",
            "\u001b[0;31mTypeError\u001b[0m                                 Traceback (most recent call last)",
            "\u001b[0;32m<ipython-input-262-d680927cda29>\u001b[0m in \u001b[0;36m<cell line: 1>\u001b[0;34m()\u001b[0m\n\u001b[0;32m----> 1\u001b[0;31m \u001b[0my_pred\u001b[0m \u001b[0;34m=\u001b[0m \u001b[0mSVDmodel\u001b[0m\u001b[0;34m.\u001b[0m\u001b[0mpredict\u001b[0m\u001b[0;34m(\u001b[0m\u001b[0mdf_test\u001b[0m\u001b[0;34m)\u001b[0m\u001b[0;34m\u001b[0m\u001b[0;34m\u001b[0m\u001b[0m\n\u001b[0m",
            "\u001b[0;32m<ipython-input-258-097baa4cae89>\u001b[0m in \u001b[0;36mpredict\u001b[0;34m(self, X)\u001b[0m\n\u001b[1;32m     26\u001b[0m     \u001b[0;32mfor\u001b[0m \u001b[0mj\u001b[0m \u001b[0;32min\u001b[0m \u001b[0mtqdm\u001b[0m\u001b[0;34m(\u001b[0m\u001b[0mrange\u001b[0m\u001b[0;34m(\u001b[0m\u001b[0mlen\u001b[0m\u001b[0;34m(\u001b[0m\u001b[0mX\u001b[0m\u001b[0;34m)\u001b[0m\u001b[0;34m)\u001b[0m\u001b[0;34m)\u001b[0m\u001b[0;34m:\u001b[0m\u001b[0;34m\u001b[0m\u001b[0;34m\u001b[0m\u001b[0m\n\u001b[1;32m     27\u001b[0m       \u001b[0mrowi\u001b[0m \u001b[0;34m=\u001b[0m \u001b[0mX\u001b[0m\u001b[0;34m.\u001b[0m\u001b[0miloc\u001b[0m\u001b[0;34m[\u001b[0m\u001b[0;34m:\u001b[0m\u001b[0;34m,\u001b[0m\u001b[0;36m1\u001b[0m\u001b[0;34m:\u001b[0m\u001b[0;34m]\u001b[0m\u001b[0;34m.\u001b[0m\u001b[0mloc\u001b[0m\u001b[0;34m[\u001b[0m\u001b[0mj\u001b[0m\u001b[0;34m]\u001b[0m\u001b[0;34m.\u001b[0m\u001b[0mto_numpy\u001b[0m\u001b[0;34m(\u001b[0m\u001b[0;34m)\u001b[0m\u001b[0;34m\u001b[0m\u001b[0;34m\u001b[0m\u001b[0m\n\u001b[0;32m---> 28\u001b[0;31m       \u001b[0my_pred\u001b[0m\u001b[0;34m.\u001b[0m\u001b[0mappend\u001b[0m\u001b[0;34m(\u001b[0m\u001b[0mreduced_sign_map\u001b[0m\u001b[0;34m[\u001b[0m\u001b[0mnp\u001b[0m\u001b[0;34m.\u001b[0m\u001b[0margmax\u001b[0m\u001b[0;34m(\u001b[0m\u001b[0mnp\u001b[0m\u001b[0;34m.\u001b[0m\u001b[0mlinalg\u001b[0m\u001b[0;34m.\u001b[0m\u001b[0mnorm\u001b[0m\u001b[0;34m(\u001b[0m\u001b[0mnp\u001b[0m\u001b[0;34m.\u001b[0m\u001b[0mdot\u001b[0m\u001b[0;34m(\u001b[0m\u001b[0mnp\u001b[0m\u001b[0;34m.\u001b[0m\u001b[0meye\u001b[0m\u001b[0;34m(\u001b[0m\u001b[0;36m784\u001b[0m\u001b[0;34m)\u001b[0m\u001b[0;34m-\u001b[0m\u001b[0mnp\u001b[0m\u001b[0;34m.\u001b[0m\u001b[0mdot\u001b[0m\u001b[0;34m(\u001b[0m\u001b[0mself\u001b[0m\u001b[0;34m.\u001b[0m\u001b[0mSVDs\u001b[0m\u001b[0;34m[\u001b[0m\u001b[0;34m:\u001b[0m\u001b[0;34m,\u001b[0m \u001b[0;34m:\u001b[0m\u001b[0mself\u001b[0m\u001b[0;34m.\u001b[0m\u001b[0mbases\u001b[0m\u001b[0;34m]\u001b[0m\u001b[0;34m,\u001b[0m \u001b[0mself\u001b[0m\u001b[0;34m.\u001b[0m\u001b[0mSVDs\u001b[0m\u001b[0;34m[\u001b[0m\u001b[0;34m:\u001b[0m\u001b[0;34m,\u001b[0m \u001b[0;34m:\u001b[0m\u001b[0mself\u001b[0m\u001b[0;34m.\u001b[0m\u001b[0mbases\u001b[0m\u001b[0;34m]\u001b[0m\u001b[0;34m.\u001b[0m\u001b[0mT\u001b[0m\u001b[0;34m)\u001b[0m\u001b[0;34m,\u001b[0m \u001b[0mrowi\u001b[0m\u001b[0;34m)\u001b[0m\u001b[0;34m)\u001b[0m\u001b[0;34m)\u001b[0m\u001b[0;34m]\u001b[0m\u001b[0;34m)\u001b[0m\u001b[0;34m\u001b[0m\u001b[0;34m\u001b[0m\u001b[0m\n\u001b[0m\u001b[1;32m     29\u001b[0m \u001b[0;34m\u001b[0m\u001b[0m\n\u001b[1;32m     30\u001b[0m       \u001b[0;31m# y_pred.append(reduced_sign_map[np.argmax(np.dot(self.sign_means,rowi) / (np.linalg.norm(self.sign_means, axis=1) * np.linalg.norm(rowi)))])\u001b[0m\u001b[0;34m\u001b[0m\u001b[0;34m\u001b[0m\u001b[0m\n",
            "\u001b[0;31mTypeError\u001b[0m: list indices must be integers or slices, not tuple"
          ]
        }
      ]
    },
    {
      "cell_type": "code",
      "source": [
        "accuracy_score(y_pred, true)"
      ],
      "metadata": {
        "colab": {
          "base_uri": "https://localhost:8080/"
        },
        "id": "Jf7sGtrqLMyN",
        "outputId": "7fdd5dfb-7af4-4f16-c496-2e28e537bbed"
      },
      "execution_count": null,
      "outputs": [
        {
          "output_type": "execute_result",
          "data": {
            "text/plain": [
              "0.04615170105967652"
            ]
          },
          "metadata": {},
          "execution_count": 257
        }
      ]
    },
    {
      "cell_type": "code",
      "source": [
        "df_train.shape"
      ],
      "metadata": {
        "id": "B8OaSrGoTkNr"
      },
      "execution_count": null,
      "outputs": []
    },
    {
      "cell_type": "code",
      "source": [
        "print(classification_report(y_pred, true))"
      ],
      "metadata": {
        "id": "iZWcnqo39cMc"
      },
      "execution_count": null,
      "outputs": []
    },
    {
      "cell_type": "code",
      "source": [
        "y_pred[4]"
      ],
      "metadata": {
        "id": "CmWBt3KuMGyh",
        "colab": {
          "base_uri": "https://localhost:8080/",
          "height": 35
        },
        "outputId": "bd3d6db5-a443-4993-8d53-e9185f9b58b1"
      },
      "execution_count": null,
      "outputs": [
        {
          "output_type": "execute_result",
          "data": {
            "text/plain": [
              "'D'"
            ],
            "application/vnd.google.colaboratory.intrinsic+json": {
              "type": "string"
            }
          },
          "metadata": {},
          "execution_count": 78
        }
      ]
    },
    {
      "cell_type": "code",
      "source": [
        "df_test.loc[4]"
      ],
      "metadata": {
        "id": "nar3moPkMMvd",
        "colab": {
          "base_uri": "https://localhost:8080/"
        },
        "outputId": "9386be35-256b-485a-df3f-bf5e06caf686"
      },
      "execution_count": null,
      "outputs": [
        {
          "output_type": "execute_result",
          "data": {
            "text/plain": [
              "label         3\n",
              "pixel1      188\n",
              "pixel2      191\n",
              "pixel3      193\n",
              "pixel4      195\n",
              "           ... \n",
              "pixel780     46\n",
              "pixel781     49\n",
              "pixel782     46\n",
              "pixel783     46\n",
              "pixel784     53\n",
              "Name: 4, Length: 785, dtype: int64"
            ]
          },
          "metadata": {},
          "execution_count": 77
        }
      ]
    },
    {
      "cell_type": "markdown",
      "source": [
        "# Method 4: Smoothing"
      ],
      "metadata": {
        "id": "o3hoDp0hwsBT"
      }
    },
    {
      "cell_type": "markdown",
      "source": [
        "At the end of chapter 10, Elden recommends image smoothing as a way to improve performance. We attempted to apply some smoothing methods to improve the performance of the models we've made."
      ],
      "metadata": {
        "id": "MNSsjP0NxGST"
      }
    },
    {
      "cell_type": "code",
      "source": [
        "images = df_train.iloc[:,1:].values.reshape(-1, 28, 28)"
      ],
      "metadata": {
        "id": "MHQhq10Vw2d-"
      },
      "execution_count": null,
      "outputs": []
    },
    {
      "cell_type": "code",
      "source": [
        "filtered_images = np.zeros_like(images)\n",
        "for i in range(len(images)):\n",
        "    filtered_images[i] = gaussian_filter(images[i], sigma=1)"
      ],
      "metadata": {
        "id": "c90wXTAJw2d_"
      },
      "execution_count": null,
      "outputs": []
    },
    {
      "cell_type": "code",
      "source": [
        "filtered_data = filtered_images.reshape(-1, 784)"
      ],
      "metadata": {
        "id": "yDizAmabw2d_"
      },
      "execution_count": null,
      "outputs": []
    },
    {
      "cell_type": "code",
      "source": [
        "filtered_df_train = pd.DataFrame(filtered_data)"
      ],
      "metadata": {
        "id": "OqLwPezvw2d_"
      },
      "execution_count": null,
      "outputs": []
    },
    {
      "cell_type": "code",
      "source": [
        "filtered_df_train.insert(0, 'label', df_train['label'])"
      ],
      "metadata": {
        "id": "uPnB0Nr6w2d_"
      },
      "execution_count": null,
      "outputs": []
    },
    {
      "cell_type": "code",
      "source": [
        "filtered_df_train.columns"
      ],
      "metadata": {
        "colab": {
          "base_uri": "https://localhost:8080/"
        },
        "outputId": "acd4ce5e-a0e6-426b-ac5a-ae197143b71f",
        "id": "6s3cItRsw2d_"
      },
      "execution_count": null,
      "outputs": [
        {
          "output_type": "execute_result",
          "data": {
            "text/plain": [
              "Index(['label',       0,       1,       2,       3,       4,       5,       6,\n",
              "             7,       8,\n",
              "       ...\n",
              "           774,     775,     776,     777,     778,     779,     780,     781,\n",
              "           782,     783],\n",
              "      dtype='object', length=785)"
            ]
          },
          "metadata": {},
          "execution_count": 124
        }
      ]
    },
    {
      "cell_type": "code",
      "source": [
        "getImage(filtered_df_train.loc[1])"
      ],
      "metadata": {
        "colab": {
          "base_uri": "https://localhost:8080/",
          "height": 567
        },
        "outputId": "903fa9fb-a386-4256-cbe3-83c2a3b7e32b",
        "id": "LrCDt1avw2eA"
      },
      "execution_count": null,
      "outputs": [
        {
          "output_type": "stream",
          "name": "stdout",
          "text": [
            "label      6\n",
            "0        156\n",
            "1        156\n",
            "2        156\n",
            "3        157\n",
            "        ... \n",
            "779      131\n",
            "780      134\n",
            "781      123\n",
            "782      122\n",
            "783      129\n",
            "Name: 1, Length: 785, dtype: int64\n",
            "6\n"
          ]
        },
        {
          "output_type": "display_data",
          "data": {
            "text/plain": [
              "<PIL.Image.Image image mode=L size=300x300 at 0x7F79FD36E770>"
            ],
            "image/png": "[encoded data removed]"
          },
          "metadata": {}
        },
        {
          "output_type": "stream",
          "name": "stdout",
          "text": [
            "Sign:  G\n"
          ]
        }
      ]
    },
    {
      "cell_type": "code",
      "source": [
        "model3 = CentroidComp(method=\"cor\", verbose=True)"
      ],
      "metadata": {
        "colab": {
          "base_uri": "https://localhost:8080/"
        },
        "id": "0E1829sTl32E",
        "outputId": "010d3226-08ae-4da3-df75-1ab370db463f"
      },
      "execution_count": null,
      "outputs": [
        {
          "output_type": "stream",
          "name": "stdout",
          "text": [
            "Initialized centroid class with method cor\n"
          ]
        }
      ]
    },
    {
      "cell_type": "code",
      "source": [
        "model3.train(X = filtered_df_train)"
      ],
      "metadata": {
        "colab": {
          "base_uri": "https://localhost:8080/"
        },
        "id": "3V72HsAIl6DQ",
        "outputId": "343ce41b-1dce-4aab-ef1c-a988acb0c2e8"
      },
      "execution_count": null,
      "outputs": [
        {
          "output_type": "stream",
          "name": "stdout",
          "text": [
            "Trained model\n"
          ]
        }
      ]
    },
    {
      "cell_type": "code",
      "source": [
        "y_pred3 = model3.predict(df_test)"
      ],
      "metadata": {
        "colab": {
          "base_uri": "https://localhost:8080/"
        },
        "id": "ld4ImGFMl90m",
        "outputId": "394db993-09b4-4071-de1d-4c5ba7299433"
      },
      "execution_count": null,
      "outputs": [
        {
          "output_type": "stream",
          "name": "stdout",
          "text": [
            "Predicting model with cor\n"
          ]
        }
      ]
    },
    {
      "cell_type": "code",
      "source": [
        "accuracy_score(y_pred3, true)"
      ],
      "metadata": {
        "colab": {
          "base_uri": "https://localhost:8080/"
        },
        "id": "Ecy68DTlmBVo",
        "outputId": "60780b5b-3f4b-4736-c6b6-1a8d65acdf65"
      },
      "execution_count": null,
      "outputs": [
        {
          "output_type": "execute_result",
          "data": {
            "text/plain": [
              "0.45984383714445065"
            ]
          },
          "metadata": {},
          "execution_count": 140
        }
      ]
    },
    {
      "cell_type": "code",
      "source": [],
      "metadata": {
        "id": "OGf-k9HHsc7_"
      },
      "execution_count": null,
      "outputs": []
    },
    {
      "cell_type": "code",
      "source": [
        "def smooth_row(row):\n",
        "    smoothed_row = gaussian_filter1d(row, sigma=1)\n",
        "    return pd.Series(smoothed_row, index=row.index)"
      ],
      "metadata": {
        "id": "QMZz3fpklFSg"
      },
      "execution_count": null,
      "outputs": []
    },
    {
      "cell_type": "code",
      "source": [
        "smoothed_df_train = df_train.apply(smooth_row, axis=1)"
      ],
      "metadata": {
        "id": "5lF5fFgzlGHv"
      },
      "execution_count": null,
      "outputs": []
    },
    {
      "cell_type": "code",
      "source": [
        "smoothed_df_train['label'] = df_train['label']"
      ],
      "metadata": {
        "id": "E0ENPHWrloPZ"
      },
      "execution_count": null,
      "outputs": []
    },
    {
      "cell_type": "code",
      "source": [
        "smoothed_df_train"
      ],
      "metadata": {
        "id": "4j6fsyRelJ0G"
      },
      "execution_count": null,
      "outputs": []
    },
    {
      "cell_type": "code",
      "source": [
        "getImage(smoothed_df_train.loc[0])"
      ],
      "metadata": {
        "id": "44Kg-6_glwH0"
      },
      "execution_count": null,
      "outputs": []
    }
  ]
}